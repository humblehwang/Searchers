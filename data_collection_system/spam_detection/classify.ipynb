{
 "cells": [
  {
   "cell_type": "code",
   "execution_count": 79,
   "id": "e0e56d3f-9d11-4d3a-b28e-2cdff80c6d9e",
   "metadata": {},
   "outputs": [],
   "source": [
    "import pandas as pd\n",
    "from sklearn.cluster import KMeans\n",
    "import numpy as np\n",
    "import matplotlib.pyplot as plt"
   ]
  },
  {
   "cell_type": "code",
   "execution_count": 80,
   "id": "ef992c08-7e3d-493c-928d-23ee566cdda9",
   "metadata": {},
   "outputs": [],
   "source": [
    "df = pd.read_excel(\"/home/Code/PhD/data_collection_system/file/testing_jieba.xlsx\")"
   ]
  },
  {
   "cell_type": "code",
   "execution_count": 81,
   "id": "ff3adbc9",
   "metadata": {},
   "outputs": [
    {
     "data": {
      "text/plain": [
       "0      2\n",
       "1      1\n",
       "2      1\n",
       "3      1\n",
       "4      1\n",
       "      ..\n",
       "907    2\n",
       "908    2\n",
       "909    2\n",
       "910    2\n",
       "911    0\n",
       "Name: label2, Length: 912, dtype: int64"
      ]
     },
     "execution_count": 81,
     "metadata": {},
     "output_type": "execute_result"
    }
   ],
   "source": [
    "df['label2']"
   ]
  },
  {
   "cell_type": "code",
   "execution_count": 82,
   "id": "6261bfe8-6858-4112-be60-406d8b25ee77",
   "metadata": {},
   "outputs": [],
   "source": [
    "#pd.set_option('display.max_rows', None)\n",
    "#pd.set_option('display.max_columns', None)"
   ]
  },
  {
   "cell_type": "code",
   "execution_count": 83,
   "id": "9addc8fe-7c85-4917-a6a0-64ea4c4f1553",
   "metadata": {},
   "outputs": [],
   "source": [
    "#part_of_speech_list = [\"A\",\"Caa\",\"Cab\",\"Cba\",\"Cbb\",\"D\",\"Da\",\"Dfa\",\"Dfb\",\"Di\",\"Dk\",\"DM\",\"I\",\"Na\",\"Nb\",\"Nc\",\"Ncd\",\"Nd\",\"Nep\",\"Neq\",\"Neq\",\"Nes\",\"Neu\",\"Nf\",\"Ng\",\"Nh\",\"Nv\",\"P\",\"T\",\"VA\",\"VAC\",\"VB\",\"VC\",\"VCL\",\"VD\",\"VF\",\"VE\",\"VG\",\"VH\",\"VHC\",\"VI\",\"VJ\",\"VK\",\"VL\",\"V_2\",\"DE\",\"SHI\",\"FW\"]"
   ]
  },
  {
   "cell_type": "code",
   "execution_count": 84,
   "id": "5ed6bccd",
   "metadata": {},
   "outputs": [],
   "source": [
    "part_of_speech_list = [\n",
    "    \"n\",\"f\",\"s\",\"t\",\"nr\",\"ns\",\"nt\",\"nw\",\n",
    "    \"nz\",\"v\",\"vd\",\"vn\",\"a\",\"ad\",\"an\",\n",
    "    \"d\",\"m\",\"q\",\"r\",\"p\",\"c\",\"u\",\"xc\",\n",
    "    \"w\",\"PER\",\"LOC\",\"ORG\",\"TIME\"\n",
    "]"
   ]
  },
  {
   "cell_type": "code",
   "execution_count": 85,
   "id": "d7e71b7d-eda7-409e-9c81-eba9325619b9",
   "metadata": {},
   "outputs": [],
   "source": [
    "text_enum = {}\n",
    "for index, word in enumerate(part_of_speech_list):\n",
    "    text_enum[word] = index"
   ]
  },
  {
   "cell_type": "code",
   "execution_count": 86,
   "id": "58d0e938-850c-47fa-9b4a-c6fb57277a8b",
   "metadata": {},
   "outputs": [],
   "source": [
    "df_orig = df "
   ]
  },
  {
   "cell_type": "code",
   "execution_count": 87,
   "id": "cf632dc7-d6cb-4b1d-83f4-c45c0ef13199",
   "metadata": {},
   "outputs": [],
   "source": [
    "for item in text_enum.items():\n",
    "    df = df.replace(item[0], item[1])"
   ]
  },
  {
   "cell_type": "code",
   "execution_count": 88,
   "id": "5145b89c-1b7d-49b2-b187-43af2b15c363",
   "metadata": {},
   "outputs": [],
   "source": [
    "df_col = list(df.columns)"
   ]
  },
  {
   "cell_type": "code",
   "execution_count": 89,
   "id": "48260345-de53-4bbf-830a-e11909b2085b",
   "metadata": {},
   "outputs": [],
   "source": [
    "df_col[list(df.columns).index(\"<script async\")] = df_col[list(df.columns).index(\"<script async\")].replace(\"<\",\"\")"
   ]
  },
  {
   "cell_type": "code",
   "execution_count": 90,
   "id": "595e3b18-39cb-40ef-8613-c4f971335acc",
   "metadata": {},
   "outputs": [],
   "source": [
    "df.columns = df_col"
   ]
  },
  {
   "cell_type": "code",
   "execution_count": 91,
   "id": "f575262d-aa7a-490c-b0e9-73932729621a",
   "metadata": {},
   "outputs": [],
   "source": [
    "drop_index = df[df['label2'] == 2].index"
   ]
  },
  {
   "cell_type": "code",
   "execution_count": 92,
   "id": "b9d7f24f",
   "metadata": {},
   "outputs": [
    {
     "data": {
      "text/plain": [
       "Int64Index([  0,   7,   8,  10,  12,  19,  22,  23,  25,  26,\n",
       "            ...\n",
       "            899, 900, 901, 903, 904, 905, 907, 908, 909, 910],\n",
       "           dtype='int64', length=581)"
      ]
     },
     "execution_count": 92,
     "metadata": {},
     "output_type": "execute_result"
    }
   ],
   "source": [
    "drop_index"
   ]
  },
  {
   "cell_type": "code",
   "execution_count": 93,
   "id": "785daee8-5799-4925-ae01-2fd5c34020f7",
   "metadata": {},
   "outputs": [],
   "source": [
    "df.drop(drop_index , inplace = True)"
   ]
  },
  {
   "cell_type": "code",
   "execution_count": 94,
   "id": "e88ece4b-bf52-4676-83a9-1cb693233e47",
   "metadata": {},
   "outputs": [
    {
     "data": {
      "text/plain": [
       "1      1\n",
       "2      1\n",
       "3      1\n",
       "4      1\n",
       "5      1\n",
       "      ..\n",
       "887    1\n",
       "896    1\n",
       "902    1\n",
       "906    0\n",
       "911    0\n",
       "Name: label2, Length: 331, dtype: int64"
      ]
     },
     "execution_count": 94,
     "metadata": {},
     "output_type": "execute_result"
    }
   ],
   "source": [
    "df['label2']"
   ]
  },
  {
   "cell_type": "code",
   "execution_count": 95,
   "id": "c10dafd4-c249-46fc-b324-5555bee87776",
   "metadata": {},
   "outputs": [
    {
     "data": {
      "text/plain": [
       "(32, 299)"
      ]
     },
     "execution_count": 95,
     "metadata": {},
     "output_type": "execute_result"
    }
   ],
   "source": [
    "len(df[df['label2'] == 0]), len(df[df['label2'] == 1])"
   ]
  },
  {
   "cell_type": "code",
   "execution_count": 96,
   "id": "60605d89-4607-4a44-8cca-7e26b3878660",
   "metadata": {},
   "outputs": [],
   "source": [
    "#Using Pearson Correlation\n",
    "cor = df.corr()\n",
    "cor_target = abs(cor[\"label\"])\n",
    "#print(cor_target.sort_values(ascending = False))"
   ]
  },
  {
   "cell_type": "code",
   "execution_count": 97,
   "id": "eb0f9899-198a-4fed-83ad-85a3168503bd",
   "metadata": {},
   "outputs": [],
   "source": [
    "import xgboost as xgb\n"
   ]
  },
  {
   "cell_type": "code",
   "execution_count": 98,
   "id": "2b1c8451-e445-41ab-9b34-e4f2f0a46cbd",
   "metadata": {},
   "outputs": [
    {
     "data": {
      "text/plain": [
       "(248, 83)"
      ]
     },
     "execution_count": 98,
     "metadata": {},
     "output_type": "execute_result"
    }
   ],
   "source": [
    "from sklearn.model_selection import train_test_split\n",
    "train_data, test_data = train_test_split(df, random_state=777, train_size=0.75)\n",
    "len(train_data),len(test_data)"
   ]
  },
  {
   "cell_type": "code",
   "execution_count": 99,
   "id": "dc5ac2bf-cae2-49e4-8266-110dcee2d79e",
   "metadata": {},
   "outputs": [],
   "source": [
    "train_data_Y = train_data['label']\n",
    "test_data_Y = test_data['label']"
   ]
  },
  {
   "cell_type": "code",
   "execution_count": 100,
   "id": "d806ade4-de04-4241-ab37-ed5bc98b3c5c",
   "metadata": {},
   "outputs": [],
   "source": [
    "train_data = train_data.drop('label',axis= 1)\n",
    "test_data = test_data.drop('label',axis= 1)"
   ]
  },
  {
   "cell_type": "code",
   "execution_count": 101,
   "id": "15bd9765-e4fd-4e7d-a0b2-f6fb7e1363e9",
   "metadata": {},
   "outputs": [],
   "source": [
    "train_data.drop(\"url\",axis = 1, inplace = True)\n",
    "train_data.drop(\"company\",axis = 1, inplace = True)"
   ]
  },
  {
   "cell_type": "code",
   "execution_count": 102,
   "id": "876f8877-b159-4b65-b0a0-5e13c59d59fe",
   "metadata": {},
   "outputs": [
    {
     "data": {
      "text/plain": [
       "Index(['most common number 1', 'most common number 2', 'most common number 3',\n",
       "       'most common number 4', 'most common number 5', 'most common number 6',\n",
       "       'most common number 7', 'most common number 8', 'most common number 9',\n",
       "       'most common number 10', 'n', 'f', 's', 't', 'nr', 'ns', 'nt', 'nw',\n",
       "       'nz', 'v', 'vd', 'vn', 'a', 'ad', 'an', 'd', 'm', 'q', 'r', 'p', 'c',\n",
       "       'u', 'xc', 'w', 'PER', 'LOC', 'ORG', 'TIME', 'script async', 'id',\n",
       "       'class', 'css', 'header', 'table', 'script', 'footer', 'img', 'src',\n",
       "       'form', 'br', 'div', 'section', 'main', 'title', 'link', 'href',\n",
       "       'company', 'url', 'label2'],\n",
       "      dtype='object')"
      ]
     },
     "execution_count": 102,
     "metadata": {},
     "output_type": "execute_result"
    }
   ],
   "source": [
    "test_data.columns"
   ]
  },
  {
   "cell_type": "code",
   "execution_count": 103,
   "id": "9333d449-dec6-4290-ae37-203fce2d0838",
   "metadata": {},
   "outputs": [],
   "source": [
    "test_data_orig = test_data.copy()"
   ]
  },
  {
   "cell_type": "code",
   "execution_count": 104,
   "id": "eb7f1b22-88a9-4dac-88b1-ad78688a4d3d",
   "metadata": {},
   "outputs": [],
   "source": [
    "test_data.drop(\"url\",axis = 1, inplace = True)\n",
    "test_data.drop(\"company\",axis = 1, inplace = True)"
   ]
  },
  {
   "cell_type": "code",
   "execution_count": 105,
   "id": "bd8f7bb8-8391-4803-997a-4101dc04a7d5",
   "metadata": {},
   "outputs": [],
   "source": [
    "X_res, y_res = train_data, train_data_Y"
   ]
  },
  {
   "cell_type": "code",
   "execution_count": 106,
   "id": "0a2d3d0f",
   "metadata": {},
   "outputs": [],
   "source": [
    "from collections import Counter\n"
   ]
  },
  {
   "cell_type": "code",
   "execution_count": 107,
   "id": "fdb40273-5ee8-4cc0-bf36-a17fc2671827",
   "metadata": {},
   "outputs": [],
   "source": [
    "gbm = xgb.XGBClassifier(max_depth=3, n_estimators=100, learning_rate=0.01,scale_pos_weight=int(Counter(y_res)[0]/Counter(y_res)[1])).fit(X_res, y_res)"
   ]
  },
  {
   "cell_type": "code",
   "execution_count": 108,
   "id": "3665dafe-5799-4720-92bf-1208209e83d5",
   "metadata": {
    "tags": []
   },
   "outputs": [
    {
     "name": "stdout",
     "output_type": "stream",
     "text": [
      "0.9759036144578314\n",
      "[[80  1]\n",
      " [ 1  1]]\n",
      "0.5\n",
      "ROC : 0.7438271604938271\n"
     ]
    }
   ],
   "source": [
    "test_y_predicted = gbm.predict(test_data)\n",
    "\n",
    "from sklearn import  metrics\n",
    "accuracy = metrics.accuracy_score(test_data_Y,test_y_predicted)\n",
    "print(accuracy)\n",
    "\n",
    "from sklearn.metrics import confusion_matrix\n",
    "print(confusion_matrix(test_data_Y,test_y_predicted))\n",
    "a,b = confusion_matrix(test_data_Y,test_y_predicted)\n",
    "\n",
    "print(b[1]/(b[0]+b[1]))\n",
    "\n",
    "from sklearn.metrics import roc_auc_score\n",
    "print(\"ROC :\",roc_auc_score(test_data_Y,test_y_predicted))"
   ]
  },
  {
   "cell_type": "code",
   "execution_count": 109,
   "id": "853dcb3a-e300-4c02-83ea-a83b0ddd3749",
   "metadata": {},
   "outputs": [
    {
     "name": "stdout",
     "output_type": "stream",
     "text": [
      "1 0 https://blog.csdn.net/quanquanxiaobu/article/details/106317195 Cadence\n",
      "0 1 https://ptt.reviews/Tech_Job/M.1623165621.A.69C TSMC\n"
     ]
    }
   ],
   "source": [
    "for i in range(len(test_data_Y)):\n",
    "    if list(test_data_Y)[i] != list(test_y_predicted)[i]:\n",
    "        print(list(test_data_Y)[i],list(test_y_predicted)[i],test_data_orig.iloc[i]['url'], test_data_orig.iloc[i]['company'])"
   ]
  },
  {
   "cell_type": "code",
   "execution_count": 29,
   "id": "edd354fc-96dd-4352-a6a1-a4fb8c1c0c1e",
   "metadata": {},
   "outputs": [
    {
     "name": "stdout",
     "output_type": "stream",
     "text": [
      "0              (script async, 0.27260995)\n",
      "1                       (main, 0.1417183)\n",
      "2                    (script, 0.08994146)\n",
      "3                        (p, 0.079265244)\n",
      "4                      (link, 0.06244963)\n",
      "5                       (id, 0.058888763)\n",
      "6                      (div, 0.056756165)\n",
      "7       (most common number 1, 0.0525044)\n",
      "8                   (footer, 0.045867067)\n",
      "9                       (br, 0.036563277)\n",
      "10                      (css, 0.02978842)\n",
      "11    (most common number 6, 0.024391156)\n",
      "12    (most common number 5, 0.024344344)\n",
      "13                  (header, 0.020216769)\n",
      "14                  (title, 0.0046949796)\n",
      "15            (most common number 2, 0.0)\n",
      "16            (most common number 3, 0.0)\n",
      "17            (most common number 4, 0.0)\n",
      "18            (most common number 7, 0.0)\n",
      "19            (most common number 8, 0.0)\n",
      "20            (most common number 9, 0.0)\n",
      "21           (most common number 10, 0.0)\n",
      "22                               (n, 0.0)\n",
      "23                               (f, 0.0)\n",
      "24                               (s, 0.0)\n",
      "25                               (t, 0.0)\n",
      "26                              (nr, 0.0)\n",
      "27                              (ns, 0.0)\n",
      "28                              (nt, 0.0)\n",
      "29                              (nw, 0.0)\n",
      "30                              (nz, 0.0)\n",
      "31                               (v, 0.0)\n",
      "32                              (vd, 0.0)\n",
      "33                              (vn, 0.0)\n",
      "34                               (a, 0.0)\n",
      "35                              (ad, 0.0)\n",
      "36                              (an, 0.0)\n",
      "37                               (d, 0.0)\n",
      "38                               (m, 0.0)\n",
      "39                               (q, 0.0)\n",
      "40                               (r, 0.0)\n",
      "41                               (c, 0.0)\n",
      "42                               (u, 0.0)\n",
      "43                              (xc, 0.0)\n",
      "44                               (w, 0.0)\n",
      "45                             (PER, 0.0)\n",
      "46                             (LOC, 0.0)\n",
      "47                             (ORG, 0.0)\n",
      "48                            (TIME, 0.0)\n",
      "49                           (class, 0.0)\n",
      "50                           (table, 0.0)\n",
      "51                             (img, 0.0)\n",
      "52                             (src, 0.0)\n",
      "53                            (form, 0.0)\n",
      "54                         (section, 0.0)\n",
      "55                            (href, 0.0)\n",
      "dtype: object\n"
     ]
    }
   ],
   "source": [
    "importance_features = gbm.feature_importances_\n",
    "features = {}\n",
    "for i in range(len(importance_features)):\n",
    "    features[X_res.columns[i]] = importance_features[i]\n",
    "features = sorted(features.items(), key=lambda x: x[1], reverse=True)\n",
    "features = pd.Series(features)\n",
    "print(features)"
   ]
  },
  {
   "cell_type": "code",
   "execution_count": 30,
   "id": "458067f1-1697-4257-bea0-cee91e18aa73",
   "metadata": {},
   "outputs": [],
   "source": [
    "# save model\n",
    "#import pickle \n",
    "#file_name = '../../model/xgboost_low_blood1_'+ str(round(accuracy,4)) + '.pickle'\n",
    "#with open(file_name, 'wb') as f:\n",
    "#    pickle.dump(gbm, f)"
   ]
  },
  {
   "cell_type": "code",
   "execution_count": null,
   "id": "5cfe3856-af8a-4ec1-9f14-d52bda2cfd80",
   "metadata": {},
   "outputs": [],
   "source": []
  }
 ],
 "metadata": {
  "kernelspec": {
   "display_name": "Python 3.8.10 64-bit",
   "language": "python",
   "name": "python3"
  },
  "language_info": {
   "codemirror_mode": {
    "name": "ipython",
    "version": 3
   },
   "file_extension": ".py",
   "mimetype": "text/x-python",
   "name": "python",
   "nbconvert_exporter": "python",
   "pygments_lexer": "ipython3",
   "version": "3.8.10"
  },
  "vscode": {
   "interpreter": {
    "hash": "916dbcbb3f70747c44a77c7bcd40155683ae19c65e1c03b4aa3499c5328201f1"
   }
  }
 },
 "nbformat": 4,
 "nbformat_minor": 5
}
