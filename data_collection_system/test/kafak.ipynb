{
 "cells": [
  {
   "cell_type": "code",
   "execution_count": 2,
   "id": "75c05b38-636c-4db6-bac2-b9528cf0731f",
   "metadata": {},
   "outputs": [],
   "source": [
    "#! pip3 install  kafka-python"
   ]
  },
  {
   "cell_type": "code",
   "execution_count": 26,
   "id": "0681ec1a-195c-4e68-9e16-c0f2e3d6c092",
   "metadata": {},
   "outputs": [],
   "source": [
    "from kafka import KafkaProducer\n",
    "from kafka.errors import KafkaError"
   ]
  },
  {
   "cell_type": "code",
   "execution_count": 66,
   "id": "0e3c205c-8e7e-4ee1-8be2-0df59304d120",
   "metadata": {},
   "outputs": [],
   "source": [
    "producer = KafkaProducer(bootstrap_servers=['140.113.73.56:9092'],\n",
    "                         #linger_ms=1000,\n",
    "                         batch_size=10,\n",
    "                        )"
   ]
  },
  {
   "cell_type": "code",
   "execution_count": 70,
   "id": "922cabfe-4a6a-474f-a41b-f1de805ff435",
   "metadata": {},
   "outputs": [
    {
     "name": "stdout",
     "output_type": "stream",
     "text": [
      "<kafka.producer.future.FutureRecordMetadata object at 0x7ff3a2039790>\n",
      "<kafka.producer.future.FutureRecordMetadata object at 0x7ff3a2039c10>\n",
      "<kafka.producer.future.FutureRecordMetadata object at 0x7ff3a20398e0>\n",
      "<kafka.producer.future.FutureRecordMetadata object at 0x7ff3a2039d00>\n",
      "<kafka.producer.future.FutureRecordMetadata object at 0x7ff3a20394c0>\n",
      "<kafka.producer.future.FutureRecordMetadata object at 0x7ff3a2079070>\n",
      "<kafka.producer.future.FutureRecordMetadata object at 0x7ff3a2079fa0>\n",
      "<kafka.producer.future.FutureRecordMetadata object at 0x7ff3b86f7dc0>\n",
      "<kafka.producer.future.FutureRecordMetadata object at 0x7ff3b86f7910>\n"
     ]
    }
   ],
   "source": [
    "# asynchronous by default\n",
    "for _ in range(9):\n",
    "    future = producer.send('my-test-topic', b'12312312312test')\n",
    "    print(future)"
   ]
  },
  {
   "cell_type": "code",
   "execution_count": 65,
   "id": "c08f0921-af57-4fb7-8cc3-5f00992e6e3d",
   "metadata": {},
   "outputs": [
    {
     "name": "stdout",
     "output_type": "stream",
     "text": [
      "RecordMetadata(topic='my-test-topic', partition=0, topic_partition=TopicPartition(topic='my-test-topic', partition=0), offset=84, timestamp=1661245521608, log_start_offset=25, checksum=None, serialized_key_size=-1, serialized_value_size=15, serialized_header_size=-1)\n",
      "my-test-topic\n",
      "0\n",
      "84\n"
     ]
    },
    {
     "data": {
      "text/plain": [
       "<kafka.producer.future.FutureRecordMetadata at 0x7ff3a0a0e6a0>"
      ]
     },
     "execution_count": 65,
     "metadata": {},
     "output_type": "execute_result"
    }
   ],
   "source": [
    "# block for 'synchronous' sends\n",
    "try:\n",
    "    record_metadata = future.get(timeout=10)\n",
    "    print(record_metadata)\n",
    "except KafkaError:\n",
    "    # decide what to do if produce request failed...\n",
    "    pass\n",
    "\n",
    "# successful result returns assigned partition and offset\n",
    "print(record_metadata.topic)\n",
    "print(record_metadata.partition)\n",
    "print(record_metadata.offset)\n",
    "\n",
    "# produce keyed messages to enable hashed partitioning\n",
    "producer.send('my-test-topic', key=b'foo', value=b'bar')"
   ]
  },
  {
   "cell_type": "code",
   "execution_count": 41,
   "id": "f70fe421-94e8-4a37-85e2-14d1ab470a71",
   "metadata": {},
   "outputs": [
    {
     "data": {
      "text/plain": [
       "b'https://myapollo.com.tw/zh-tw/7-useful-pytest-plugins/'"
      ]
     },
     "execution_count": 41,
     "metadata": {},
     "output_type": "execute_result"
    }
   ],
   "source": [
    "\"https://myapollo.com.tw/zh-tw/7-useful-pytest-plugins/\".encode(\"utf-8\")"
   ]
  },
  {
   "cell_type": "code",
   "execution_count": null,
   "id": "3273fda8-ab8f-4682-85c8-abdb0241255f",
   "metadata": {},
   "outputs": [],
   "source": []
  }
 ],
 "metadata": {
  "kernelspec": {
   "display_name": "Python 3 (ipykernel)",
   "language": "python",
   "name": "python3"
  },
  "language_info": {
   "codemirror_mode": {
    "name": "ipython",
    "version": 3
   },
   "file_extension": ".py",
   "mimetype": "text/x-python",
   "name": "python",
   "nbconvert_exporter": "python",
   "pygments_lexer": "ipython3",
   "version": "3.8.10"
  },
  "toc-showcode": true
 },
 "nbformat": 4,
 "nbformat_minor": 5
}
