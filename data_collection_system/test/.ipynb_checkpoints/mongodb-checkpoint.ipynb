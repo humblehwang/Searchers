{
 "cells": [
  {
   "cell_type": "code",
   "execution_count": 51,
   "id": "ec00c228",
   "metadata": {},
   "outputs": [],
   "source": [
    "import pymongo\n",
    "from bson.objectid import ObjectId\n",
    "import pandas as pd\n",
    "\n",
    "client = pymongo.MongoClient(\"mongodb://140.113.73.56:27018/\")\n",
    "db = client[\"searcher\"]"
   ]
  },
  {
   "cell_type": "code",
   "execution_count": 52,
   "id": "3137ae47",
   "metadata": {},
   "outputs": [
    {
     "data": {
      "text/plain": [
       "['comment', 'article', 'spam_detection', 'spam_detection_jieba']"
      ]
     },
     "execution_count": 52,
     "metadata": {},
     "output_type": "execute_result"
    }
   ],
   "source": [
    "db.list_collection_names()"
   ]
  },
  {
   "cell_type": "code",
   "execution_count": 54,
   "id": "b7bda4d0-1676-4f10-b30a-5fa6ee351a09",
   "metadata": {},
   "outputs": [
    {
     "data": {
      "text/plain": [
       "912"
      ]
     },
     "execution_count": 54,
     "metadata": {},
     "output_type": "execute_result"
    }
   ],
   "source": [
    "collection = db['spam_detection_jieba']\n",
    "len(list(list(collection.find({}))))"
   ]
  },
  {
   "cell_type": "code",
   "execution_count": 55,
   "id": "afc24841-bdf9-4a00-a11c-30215dbbceb4",
   "metadata": {},
   "outputs": [
    {
     "data": {
      "text/plain": [
       "<pymongo.results.DeleteResult at 0x7f4ffee37490>"
      ]
     },
     "execution_count": 55,
     "metadata": {},
     "output_type": "execute_result"
    }
   ],
   "source": [
    "#collection.delete_many({})"
   ]
  },
  {
   "cell_type": "code",
   "execution_count": 6,
   "id": "1cedcada",
   "metadata": {},
   "outputs": [
    {
     "data": {
      "text/plain": [
       "7619"
      ]
     },
     "execution_count": 6,
     "metadata": {},
     "output_type": "execute_result"
    }
   ],
   "source": [
    "collection = db['article']\n",
    "len(list(list(collection.find({\"source\":\"DCARD\"}))))"
   ]
  },
  {
   "cell_type": "code",
   "execution_count": 424,
   "id": "2b5e082f",
   "metadata": {},
   "outputs": [],
   "source": [
    "source = \"DCARD\"\n",
    "board = \"tech_job\"\n",
    "db = get_db_connection()\n",
    "db.list_collection_names()\n",
    "collection = db['article']\n",
    "query = {\n",
    "    \"source\" : source,\n",
    "    \"board\" : board,\n",
    "}\n",
    "data = list(collection.find(query).sort([(\"date_time\",-1)]).limit(-100))"
   ]
  },
  {
   "cell_type": "code",
   "execution_count": null,
   "id": "8d889b33",
   "metadata": {},
   "outputs": [],
   "source": []
  },
  {
   "cell_type": "code",
   "execution_count": 17,
   "id": "c0704efa",
   "metadata": {},
   "outputs": [],
   "source": [
    "#collection.delete_many({})"
   ]
  },
  {
   "cell_type": "code",
   "execution_count": 331,
   "id": "88e7c611",
   "metadata": {},
   "outputs": [
    {
     "data": {
      "text/plain": [
       "4286816"
      ]
     },
     "execution_count": 331,
     "metadata": {},
     "output_type": "execute_result"
    }
   ],
   "source": [
    "collection = db[\"comment\"]\n",
    "len(list(list(collection.find())))"
   ]
  },
  {
   "cell_type": "code",
   "execution_count": 9,
   "id": "4da2904f",
   "metadata": {},
   "outputs": [
    {
     "data": {
      "text/plain": [
       "{'_id': ObjectId('62a9da9eacd46eea4556ae4d'),\n",
       " 'user': 'wqa98765',\n",
       " 'tag': '推',\n",
       " 'content': '仙境不用想了輪值看部門南亞科的話......三思',\n",
       " 'url': 'https://www.ptt.cc/bbs/Tech_Job/M.1459897596.A.E73.html',\n",
       " 'article_id': '78e6d920e01a43b3d0e5cb96b37a36b2',\n",
       " 'comment_id': '3a65d8df8a503737733f6bca36d6ea04'}"
      ]
     },
     "execution_count": 9,
     "metadata": {},
     "output_type": "execute_result"
    }
   ],
   "source": [
    "list(list(collection.find()))[0]"
   ]
  },
  {
   "cell_type": "code",
   "execution_count": 10,
   "id": "d95f9e2a",
   "metadata": {},
   "outputs": [
    {
     "data": {
      "text/plain": [
       "[{'_id': ObjectId('62a9dae9e93263ad82185522'),\n",
       "  'user': 'fhjqwefs',\n",
       "  'tag': '推',\n",
       "  'content': '爽還要更爽是台灣人的天性',\n",
       "  'url': 'https://www.ptt.cc/bbs/Tech_Job/M.1480739405.A.4CD.html',\n",
       "  'article_id': '0caa50588de0dec0953741886b052207',\n",
       "  'comment_id': 'efbd74db19f3f8cbd29bcfd80fd3e558'},\n",
       " {'_id': ObjectId('62a9dae9e93263ad82185523'),\n",
       "  'user': 'Roderickey',\n",
       "  'tag': '→',\n",
       "  'content': '支持台玻出走美國改名美玻',\n",
       "  'url': 'https://www.ptt.cc/bbs/Tech_Job/M.1480739405.A.4CD.html',\n",
       "  'article_id': '0caa50588de0dec0953741886b052207',\n",
       "  'comment_id': 'decfe9d1671a98ccbb9094b18090d9cf'},\n",
       " {'_id': ObjectId('62a9dae9e93263ad82185524'),\n",
       "  'user': 'voyage48',\n",
       "  'tag': '推',\n",
       "  'content': '台玻走出台灣??沒有台萬政策保護，馬上倒給妳看',\n",
       "  'url': 'https://www.ptt.cc/bbs/Tech_Job/M.1480739405.A.4CD.html',\n",
       "  'article_id': '0caa50588de0dec0953741886b052207',\n",
       "  'comment_id': '3ef920664ca12442a4c1ba377aae3fd3'},\n",
       " {'_id': ObjectId('62a9dae9e93263ad82185525'),\n",
       "  'user': 'nakayamayyt',\n",
       "  'tag': '→',\n",
       "  'content': '台玻自從兒子管事投資中國就開始虧損還要現增籌錢',\n",
       "  'url': 'https://www.ptt.cc/bbs/Tech_Job/M.1480739405.A.4CD.html',\n",
       "  'article_id': '0caa50588de0dec0953741886b052207',\n",
       "  'comment_id': '8ab5cdb294cc4a2dca1914c7d895691f'},\n",
       " {'_id': ObjectId('62a9dae9e93263ad82185526'),\n",
       "  'user': 'oldchang1205',\n",
       "  'tag': '→',\n",
       "  'content': '美國川普要降到15%',\n",
       "  'url': 'https://www.ptt.cc/bbs/Tech_Job/M.1480739405.A.4CD.html',\n",
       "  'article_id': '0caa50588de0dec0953741886b052207',\n",
       "  'comment_id': '022d705a9e1eae1ed1eabac4f16f6e15'},\n",
       " {'_id': ObjectId('62a9dae9e93263ad82185527'),\n",
       "  'user': 'aweilin',\n",
       "  'tag': '推',\n",
       "  'content': '快走，千萬別留下',\n",
       "  'url': 'https://www.ptt.cc/bbs/Tech_Job/M.1480739405.A.4CD.html',\n",
       "  'article_id': '0caa50588de0dec0953741886b052207',\n",
       "  'comment_id': '3c7f58887b288ad2765437a84e15e1fa'},\n",
       " {'_id': ObjectId('62a9dae9e93263ad82185528'),\n",
       "  'user': 'maneatis',\n",
       "  'tag': '推',\n",
       "  'content': '這些老頭離開台灣不過就是一坨',\n",
       "  'url': 'https://www.ptt.cc/bbs/Tech_Job/M.1480739405.A.4CD.html',\n",
       "  'article_id': '0caa50588de0dec0953741886b052207',\n",
       "  'comment_id': 'd3425c11a63a88e538ef51000a4709d8'}]"
      ]
     },
     "execution_count": 10,
     "metadata": {},
     "output_type": "execute_result"
    }
   ],
   "source": [
    "collection = db[\"comment\"]\n",
    "query = {\n",
    "    \"url\" : \"https://www.ptt.cc/bbs/Tech_Job/M.1480739405.A.4CD.html\" \n",
    "}\n",
    "list(list(collection.find(query)))"
   ]
  },
  {
   "cell_type": "code",
   "execution_count": 16,
   "id": "eece67fc",
   "metadata": {},
   "outputs": [],
   "source": [
    "DB_HOST = \"140.113.73.56\"\n",
    "DB_PORT = \"27018\"\n",
    "DB_DATABASE = \"searcher\"\n",
    "\n",
    "def get_db_connection():\n",
    "    db_client = pymongo.MongoClient(f\"\"\"mongodb://{str(DB_HOST)}:{DB_PORT}/\"\"\")\n",
    "    db = db_client[DB_DATABASE]\n",
    "    return db"
   ]
  },
  {
   "cell_type": "code",
   "execution_count": 278,
   "id": "4e446530",
   "metadata": {},
   "outputs": [],
   "source": [
    "from datetime import datetime, timezone, timedelta\n",
    "\n",
    "def check_time_format(date_time):\n",
    "    \"\"\"\n",
    "    utility: 檢查時間格式是否符合預設規定\n",
    "    param  : - date(string): 要檢查的時間\n",
    "    raise  : - ValueError: 錯誤的時間格式\n",
    "    \"\"\"    \n",
    "    try:\n",
    "        datetime.strptime(date_time, '%Y/%m/%d %H:%M:%S')\n",
    "        return True\n",
    "    except ValueError:\n",
    "        return False\n"
   ]
  },
  {
   "cell_type": "code",
   "execution_count": 394,
   "id": "ab4e53e4",
   "metadata": {},
   "outputs": [],
   "source": [
    "source = \"PTT\"\n",
    "board = \"Tech_Job\"\n",
    "db = get_db_connection()\n",
    "db.list_collection_names()\n",
    "collection = db['article']\n",
    "query = {\n",
    "    \"source\" : source,\n",
    "    \"board\" : board,\n",
    "}\n",
    "data = list(collection.find(query).sort([(\"date_time\",-1)]).limit(-3))"
   ]
  },
  {
   "cell_type": "code",
   "execution_count": 395,
   "id": "5af4d8cd",
   "metadata": {},
   "outputs": [],
   "source": [
    "for d in data:\n",
    "    if not check_time_format(d['date_time']):\n",
    "        print(d)\n",
    "        #collection.delete_one({\"_id\":ObjectId(d['_id'])})"
   ]
  },
  {
   "cell_type": "code",
   "execution_count": 329,
   "id": "48448196",
   "metadata": {},
   "outputs": [],
   "source": [
    "source = \"DCARD\"\n",
    "board = \"tech_job\"\n",
    "db = get_db_connection()\n",
    "db.list_collection_names()\n",
    "collection = db['article']\n",
    "query = {\n",
    "    \"source\" : source,\n",
    "    \"board\" : board,\n",
    "}\n",
    "data = list(collection.find(query).sort([(\"date_time\",-1)]).limit  (-10))"
   ]
  },
  {
   "cell_type": "code",
   "execution_count": 330,
   "id": "5872299d",
   "metadata": {},
   "outputs": [
    {
     "data": {
      "text/plain": [
       "[{'_id': ObjectId('62b2b1115a29fa62f598ab89'),\n",
       "  'author': '',\n",
       "  'board': 'tech_job',\n",
       "  'title': '基本電學',\n",
       "  'date_time': '2022/06/22 05:55:26',\n",
       "  'source': 'DCARD',\n",
       "  'num_comment': 0,\n",
       "  'url': 'https://www.dcard.tw/service/api/v2/posts/239244713',\n",
       "  'article_id': '239244713',\n",
       "  'content': 'https://i.imgur.com/mI9v5uG.jpg\\n各位大神求解'},\n",
       " {'_id': ObjectId('62b2b10e5a29fa62f598ab87'),\n",
       "  'author': '',\n",
       "  'board': 'tech_job',\n",
       "  'title': '非一線ic廠',\n",
       "  'date_time': '2022/06/22 05:54:35',\n",
       "  'source': 'DCARD',\n",
       "  'num_comment': 2,\n",
       "  'url': 'https://www.dcard.tw/service/api/v2/posts/239244702',\n",
       "  'article_id': '239244702',\n",
       "  'content': '請問學碩都不是電資的話 \\n\\n把邏設/計組/電子學跟一些碩班實作課程修一輪有機會進到二三線ic廠找個後端的職缺練功嗎\\n\\n還是沒救直接去晶圓廠乖乖幹整合到時候跳晶圓廠或ic廠的產品比較開心啊\\n\\n爬過文大家都推直接重考ics碩士比較快，但怎麼很多人自學轉職成功。那如果我修過課成功機會不是比自學的更大嗎'},\n",
       " {'_id': ObjectId('62b2a9713363623d8111efb7'),\n",
       "  'author': '',\n",
       "  'board': 'tech_job',\n",
       "  'title': '竹南封測廠測試',\n",
       "  'date_time': '2022/06/22 05:30:16',\n",
       "  'source': 'DCARD',\n",
       "  'num_comment': 0,\n",
       "  'url': 'https://www.dcard.tw/service/api/v2/posts/239244506',\n",
       "  'article_id': '239244506',\n",
       "  'content': '有沒有前輩學長可以分享一些自己經歷或是身邊朋友的故事，假如在封測廠做測試應用工程師，是真的可以學到東西對以後轉職會有幫助嗎？\\n原本是想說累積工作經驗然後換到中游的測試工程師薪水會有所提升，如果真有希望的話可以大概分享一下出路嗎~ 謝謝各位大大。\\n本身會寫C 也有使用過嵌入式微處理晶片的算法應用過，鑒於畢業的學校實在差人一截，看到網路有些前輩說反正新鮮人待著可以練功，之後轉更好的公司，偏偏很少看到相關資訊。 小弟新鮮人 實在有點徬徨，求前輩們解答，萬分感謝🥲'},\n",
       " {'_id': ObjectId('62b2a484d39d9ff122bd876b'),\n",
       "  'author': '',\n",
       "  'board': 'tech_job',\n",
       "  'title': '不知名豬屎屋系統硬體工程師',\n",
       "  'date_time': '2022/06/22 04:57:59',\n",
       "  'source': 'DCARD',\n",
       "  'num_comment': 0,\n",
       "  'url': 'https://www.dcard.tw/service/api/v2/posts/239244270',\n",
       "  'article_id': '239244270',\n",
       "  'content': '各位年薪300卡友好,\\n小弟目前30歲,背景為量測儀器設備HW RD 5年,最近收到一個小型豬屎屋的面試邀約,基本上也查不到這間公司的任何訊息。\\n如下圖,工作內容主要像是驗證IC的功能與FPGA功能板的開發,工作強度肯定高於IC應用為主的系統廠,小弟工作背景與學經歷,不是太多機會跳入IC設計業,請問這工作內容適合練功嗎,未來的發展性如何？\\nhttps://i.imgur.com/MQgMkPX.jpg\\n目前小弟也有一些系統廠的HW RD offer在身\\n年薪約落在135～145之間,加班是看狀況比例不高？ 繼續作系統廠練功仍然有機會往外商客戶端走,總是在想IC設計業是否真的值得一試？'},\n",
       " {'_id': ObjectId('62b2a487d39d9ff122bd876d'),\n",
       "  'author': '',\n",
       "  'board': 'tech_job',\n",
       "  'title': '#請益 offer 華碩/技嘉',\n",
       "  'date_time': '2022/06/22 04:52:22',\n",
       "  'source': 'DCARD',\n",
       "  'num_comment': 0,\n",
       "  'url': 'https://www.dcard.tw/service/api/v2/posts/239244215',\n",
       "  'article_id': '239244215',\n",
       "  'content': '各位年薪300萬的大大，小弟北科電子學士畢，\\n兩年技嘉主板實習經驗，\\n目前有拿到下面2個offer有點猶豫要去哪一個，\\n再麻煩前輩們給予建議了，謝謝。\\n\\n\\n1.公司：華碩\\r\\n職務：硬體研發工程師 (企業伺服器) \\r\\n地點：關渡\\r\\n薪水：47.5k 保14 績效好能16-18(餐費補助70塊)\\r\\n住宿：租屋\\n風氣：未知，但面試時感覺主管還不錯(?)\\n\\n\\r\\n2.公司：技嘉(原單位)\\r\\n職務：硬體研發工程師 (主板)                                                    \\r\\n地點：新店\\n薪水：41k 保14+月獎金(上限三萬)+分紅不知道 \\r\\n          前同事說前兩年都領滿\\n住宿：租屋\\n風氣：主管和同事都很好相處\\n\\n\\n想請問各位前輩覺得哪邊比較好？\\n\\r日後想跳外商不知道有沒有機會？\\r\\n先謝謝各位前輩指教了'},\n",
       " {'_id': ObjectId('62b2a2950b8de2893639a2f9'),\n",
       "  'author': '',\n",
       "  'board': 'tech_job',\n",
       "  'title': 'Offer請益',\n",
       "  'date_time': '2022/06/22 04:30:23',\n",
       "  'source': 'DCARD',\n",
       "  'num_comment': 0,\n",
       "  'url': 'https://www.dcard.tw/service/api/v2/posts/239244053',\n",
       "  'article_id': '239244053',\n",
       "  'content': '各位300年薪大大，本人為國立科大學士，目前在北投系統廠擔任NB 機構4年。近期有幸獲得石頭offer，想來請益！\\n\\n1.石頭/新offer\\n地點：北投\\n職務：機構RD\\n內容：商用NB/AIOT/Desktop \\n下班：18:00-20:00，視需求加班\\n薪資：(N+7k)*14+分紅*2包\\n備註：進去後會從OEM案子做起，與主管面試氣氛融洽，並表示可以再跟人資爭取薪資。\\n\\n2.原職\\n地點：北投\\n職務：機構RD\\n內容：chromebook NB/\\n下班：18:00，偶爾配合專案加班\\n薪資：結構移薪後為N*14+一年兩次分紅\\n備註：今年會調整職等，一併調整薪資，（但不曉得會加多少。\\n\\n鑑於NB可能慢慢走向夕陽產業，待在系統廠未來的發展性不確定，也怕之後腳麻更走不了。\\n第一次發文還請多多指教！'},\n",
       " {'_id': ObjectId('62b2a28c0b8de2893639a2f3'),\n",
       "  'author': '',\n",
       "  'board': 'tech_job',\n",
       "  'title': '投ASML官網履歷的問題',\n",
       "  'date_time': '2022/06/22 04:21:30',\n",
       "  'source': 'DCARD',\n",
       "  'num_comment': 1,\n",
       "  'url': 'https://www.dcard.tw/service/api/v2/posts/239243984',\n",
       "  'article_id': '239243984',\n",
       "  'content': '想問各位年薪千萬的大大們\\n我已在ASML的網站上投履歷\\n在104上也有投履歷\\n但遲遲等不到HR的電話\\n請問這樣是不是沒望了\\n來科技版詢問希望大大們可以解惑一下\\nhttps://i.imgur.com/c4fdhgO.jpg'},\n",
       " {'_id': ObjectId('62b2a2890b8de2893639a2f1'),\n",
       "  'author': '',\n",
       "  'board': 'tech_job',\n",
       "  'title': '台南Garmin',\n",
       "  'date_time': '2022/06/22 03:40:05',\n",
       "  'source': 'DCARD',\n",
       "  'num_comment': 0,\n",
       "  'url': 'https://www.dcard.tw/service/api/v2/posts/239243661',\n",
       "  'article_id': '239243661',\n",
       "  'content': '有沒有台南夜班的人阿\\n夜班做了快一個月'},\n",
       " {'_id': ObjectId('62b2a27c0b8de2893639a2e9'),\n",
       "  'author': '',\n",
       "  'board': 'tech_job',\n",
       "  'title': '好奇工程師們都開什麼車',\n",
       "  'date_time': '2022/06/22 03:07:53',\n",
       "  'source': 'DCARD',\n",
       "  'num_comment': 10,\n",
       "  'url': 'https://www.dcard.tw/service/api/v2/posts/239243426',\n",
       "  'article_id': '239243426',\n",
       "  'content': '好奇各位年薪200 大大們\\n工程師這個族群大概都開什麼等級的車子，有人可以分享一下嗎。\\n在新竹這邊有車出去玩或是去找朋友都方便很多，身為男人還是有開好車的夢，但看看自己的薪水，如果年收不到百萬，就只能開二手國產了ㄇ 嗚嗚🥲'},\n",
       " {'_id': ObjectId('62b2a2790b8de2893639a2e7'),\n",
       "  'author': '',\n",
       "  'board': 'tech_job',\n",
       "  'title': 'Qualcomm IP Software Engineer (CAD, Automation, Data Analysis) 面試',\n",
       "  'date_time': '2022/06/22 02:30:59',\n",
       "  'source': 'DCARD',\n",
       "  'num_comment': 0,\n",
       "  'url': 'https://www.dcard.tw/service/api/v2/posts/239243197',\n",
       "  'article_id': '239243197',\n",
       "  'content': '最近收到了高通的面試\\n\\n想請問板上各位大大\\n有沒有人有過這個職位的面試經驗可以分享\\nCoding問題難度 面試問了什麼之類的\\n以及這個職位大致內容\\n主要想知道會加班到爆炸\\n還是每天正常上下班\\n\\n謝謝各位'}]"
      ]
     },
     "execution_count": 330,
     "metadata": {},
     "output_type": "execute_result"
    }
   ],
   "source": [
    "data"
   ]
  },
  {
   "cell_type": "code",
   "execution_count": null,
   "id": "e5f2f917",
   "metadata": {},
   "outputs": [],
   "source": []
  }
 ],
 "metadata": {
  "kernelspec": {
   "display_name": "Python 3 (ipykernel)",
   "language": "python",
   "name": "python3"
  },
  "language_info": {
   "codemirror_mode": {
    "name": "ipython",
    "version": 3
   },
   "file_extension": ".py",
   "mimetype": "text/x-python",
   "name": "python",
   "nbconvert_exporter": "python",
   "pygments_lexer": "ipython3",
   "version": "3.8.10"
  }
 },
 "nbformat": 4,
 "nbformat_minor": 5
}
