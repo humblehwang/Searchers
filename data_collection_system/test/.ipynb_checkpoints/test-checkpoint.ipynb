{
 "cells": [
  {
   "cell_type": "code",
   "execution_count": 2,
   "id": "359e8a6c",
   "metadata": {},
   "outputs": [],
   "source": [
    "import pandas as pd\n",
    "import re\n",
    "import jieba\n",
    "import jieba.analyse"
   ]
  },
  {
   "cell_type": "code",
   "execution_count": 3,
   "id": "dc2d7ce3-04c0-441d-917e-bd815abea6ed",
   "metadata": {},
   "outputs": [],
   "source": [
    "filename = \"/home/Code/PhD/data_collection_system/file/search_result/google_search_content_result/群暉/28a11c0da05eac039f13ce5f92349f7e.txt\"\n",
    "with open(filename, 'r') as f:\n",
    "    web_content = f.read()"
   ]
  },
  {
   "cell_type": "code",
   "execution_count": null,
   "id": "160341c4-4876-4b15-a659-d7a418f03ed8",
   "metadata": {},
   "outputs": [],
   "source": []
  },
  {
   "cell_type": "code",
   "execution_count": 4,
   "id": "04593a35-5dc2-4d99-9f7b-23936a96b486",
   "metadata": {},
   "outputs": [],
   "source": [
    "#https://github.com/fxsjy/jieba"
   ]
  },
  {
   "cell_type": "code",
   "execution_count": 5,
   "id": "cfc640ee-689c-48a2-945c-43601c0394cf",
   "metadata": {},
   "outputs": [],
   "source": [
    "def chinese_word_filter(string):\n",
    "    return \"\".join(re.findall(r'[\\u4e00-\\u9fff]+', string))\n",
    "web_content = chinese_word_filter(web_content)"
   ]
  },
  {
   "cell_type": "code",
   "execution_count": 6,
   "id": "6e5ec0c1-83d6-4ff8-bc0e-23f135585fa7",
   "metadata": {},
   "outputs": [],
   "source": [
    "web_content = \"\".join(web_content)"
   ]
  },
  {
   "cell_type": "code",
   "execution_count": 7,
   "id": "df46bc6d-4528-4688-884a-3c50cb53dcbe",
   "metadata": {},
   "outputs": [],
   "source": [
    "web_content = \"\".join(web_content)"
   ]
  },
  {
   "cell_type": "code",
   "execution_count": 42,
   "id": "7134a94c-6163-4795-ab67-6626e05193eb",
   "metadata": {},
   "outputs": [
    {
     "name": "stderr",
     "output_type": "stream",
     "text": [
      "Building prefix dict from /home/Code/PhD/data_collection_system/file/extra_dict/dict.txt.big ...\n",
      "Loading model from cache /tmp/jieba.uc62ecf2ea03b12bd1d0d7bc492374168.cache\n",
      "Loading model cost 0.705 seconds.\n",
      "Prefix dict has been built successfully.\n"
     ]
    }
   ],
   "source": [
    "jieba.set_dictionary(\"/home/Code/PhD/data_collection_system/file/extra_dict/dict.txt.big\")\n",
    "word_list = [{\"批踢踢\": \"ORG\"},{\"訊連\": \"ORG\"},{\"台積電\": \"ORG\"} ]\n",
    "for word in word_list:\n",
    "    jieba.add_word(list(word.keys())[0], tag=\"n\")"
   ]
  },
  {
   "cell_type": "code",
   "execution_count": 45,
   "id": "4612df0a-50d4-409e-a010-302355252d1e",
   "metadata": {},
   "outputs": [],
   "source": [
    "#list(jieba.cut(web_content))"
   ]
  },
  {
   "cell_type": "code",
   "execution_count": 3,
   "id": "362ff930-5898-4af5-bdf6-659876eb15a1",
   "metadata": {},
   "outputs": [],
   "source": [
    "a = \"123123123\\\n",
    "aaaaaaa\""
   ]
  },
  {
   "cell_type": "code",
   "execution_count": 4,
   "id": "07f6dd8e-e40f-444f-86b8-b8914c4241ba",
   "metadata": {},
   "outputs": [],
   "source": [
    " import jieba.posseg as pseg"
   ]
  },
  {
   "cell_type": "code",
   "execution_count": 6,
   "id": "c7c17f97-4ade-4d34-bd2f-36a04d1ed995",
   "metadata": {},
   "outputs": [
    {
     "ename": "SyntaxError",
     "evalue": "invalid syntax (1306544435.py, line 1)",
     "output_type": "error",
     "traceback": [
      "\u001b[0;36m  Input \u001b[0;32mIn [6]\u001b[0;36m\u001b[0m\n\u001b[0;31m    = f\"{str(pathlib.Path(__file__).parent.parent.resolve())}\"\\\u001b[0m\n\u001b[0m    ^\u001b[0m\n\u001b[0;31mSyntaxError\u001b[0m\u001b[0;31m:\u001b[0m invalid syntax\n"
     ]
    }
   ],
   "source": [
    " = f\"{str(pathlib.Path(__file__).parent.parent.resolve())}\"\\\n",
    "   f\"/file/text_segmentation/data\""
   ]
  },
  {
   "cell_type": "code",
   "execution_count": 35,
   "id": "60e3a03e-71e1-429b-a628-c5e5c0312a53",
   "metadata": {},
   "outputs": [],
   "source": [
    "jieba.enable_parallel(8)"
   ]
  },
  {
   "cell_type": "code",
   "execution_count": 38,
   "id": "5458a853-498b-446e-bc00-b20f4ab6f3f0",
   "metadata": {},
   "outputs": [
    {
     "name": "stdout",
     "output_type": "stream",
     "text": [
      "心得 v\n",
      "CPU times: user 2.12 ms, sys: 0 ns, total: 2.12 ms\n",
      "Wall time: 664 ms\n"
     ]
    }
   ],
   "source": [
    "%%time\n",
    "\n",
    "wordlist = pseg.cut(web_content)\n",
    "for word, flag in wordlist:\n",
    "    print('%s %s' % (word, flag))\n",
    "    break"
   ]
  },
  {
   "cell_type": "code",
   "execution_count": 25,
   "id": "35262a28-accb-42a2-8126-fb0fc67ff7b2",
   "metadata": {},
   "outputs": [
    {
     "ename": "TypeError",
     "evalue": "'generator' object is not subscriptable",
     "output_type": "error",
     "traceback": [
      "\u001b[0;31m---------------------------------------------------------------------------\u001b[0m",
      "\u001b[0;31mTypeError\u001b[0m                                 Traceback (most recent call last)",
      "Input \u001b[0;32mIn [25]\u001b[0m, in \u001b[0;36m<cell line: 1>\u001b[0;34m()\u001b[0m\n\u001b[0;32m----> 1\u001b[0m [flag \u001b[38;5;28;01mfor\u001b[39;00m word, flag \u001b[38;5;129;01min\u001b[39;00m \u001b[43mwordlist\u001b[49m\u001b[43m[\u001b[49m\u001b[43m:\u001b[49m\u001b[38;5;241;43m10\u001b[39;49m\u001b[43m]\u001b[49m]\n",
      "\u001b[0;31mTypeError\u001b[0m: 'generator' object is not subscriptable"
     ]
    }
   ],
   "source": [
    "[flag for word, flag in wordlist] "
   ]
  },
  {
   "cell_type": "code",
   "execution_count": 23,
   "id": "ab5cb11c-2f0b-459f-b1df-4e92d55c2b39",
   "metadata": {},
   "outputs": [
    {
     "name": "stdout",
     "output_type": "stream",
     "text": [
      "CPU times: user 4 µs, sys: 0 ns, total: 4 µs\n",
      "Wall time: 5.48 µs\n"
     ]
    }
   ],
   "source": [
    "%%time\n",
    "wordlist = pseg.cut(web_content, use_paddle=True)"
   ]
  },
  {
   "cell_type": "code",
   "execution_count": 21,
   "id": "6fc207d0-c7e0-4af7-ad3d-9e45885bfe42",
   "metadata": {},
   "outputs": [
    {
     "name": "stdout",
     "output_type": "stream",
     "text": [
      "實業坊 n\n"
     ]
    }
   ],
   "source": [
    "for word, flag in wordlist:\n",
    "    print('%s %s' % (word, flag))\n",
    "    break"
   ]
  },
  {
   "cell_type": "code",
   "execution_count": 272,
   "id": "5ce360ee-ab3c-4699-9ea8-ff3b6a1e1d9c",
   "metadata": {},
   "outputs": [],
   "source": [
    "text_columns = [\"n\",\"f\",\"s\",\"t\",\"nr\",\"ns\",\"nt\",\"nw\",\"nz\",\"v\",\"vd\",\"vn\",\"a\",\"ad\",\"an\",\"d\",\"m\",\"q\",\"r\",\"p\",\"c\",\"u\",\"xc\",\"w\",\"PER\",\"LOC\",\"ORG\",\"TIME\"]"
   ]
  },
  {
   "cell_type": "code",
   "execution_count": 274,
   "id": "cf66feb8-993f-446f-a9fa-31a5e0d3b177",
   "metadata": {},
   "outputs": [
    {
     "data": {
      "text/plain": [
       "28"
      ]
     },
     "execution_count": 274,
     "metadata": {},
     "output_type": "execute_result"
    }
   ],
   "source": [
    "len(text_columns)"
   ]
  },
  {
   "cell_type": "code",
   "execution_count": 16,
   "id": "5f772e7f-82ef-4c5b-b5a1-a532df80f653",
   "metadata": {},
   "outputs": [],
   "source": [
    "from ckiptagger import data_utils, construct_dictionary, WS, POS, NER\n"
   ]
  },
  {
   "cell_type": "code",
   "execution_count": 197,
   "id": "111c83ad-1413-4a6c-890f-36a662d5f98a",
   "metadata": {},
   "outputs": [
    {
     "name": "stderr",
     "output_type": "stream",
     "text": [
      "/usr/local/lib/python3.8/dist-packages/ckiptagger/model_ws.py:106: UserWarning: `tf.nn.rnn_cell.LSTMCell` is deprecated and will be removed in a future version. This class is equivalent as `tf.keras.layers.LSTMCell`, and will be replaced by that in Tensorflow 2.0.\n",
      "  cell = tf.compat.v1.nn.rnn_cell.LSTMCell(hidden_d, name=name)\n",
      "Exception ignored in: <function WS.__del__ at 0x7fddaf4e2160>\n",
      "Traceback (most recent call last):\n",
      "  File \"/usr/local/lib/python3.8/dist-packages/ckiptagger/api.py\", line 65, in __del__\n",
      "    self.model.sess.close()\n",
      "AttributeError: 'WS' object has no attribute 'model'\n",
      "/usr/local/lib/python3.8/dist-packages/ckiptagger/model_pos.py:56: UserWarning: `tf.nn.rnn_cell.LSTMCell` is deprecated and will be removed in a future version. This class is equivalent as `tf.keras.layers.LSTMCell`, and will be replaced by that in Tensorflow 2.0.\n",
      "  cell = tf.compat.v1.nn.rnn_cell.LSTMCell(hidden_d, name=name)\n",
      "/usr/local/lib/python3.8/dist-packages/ckiptagger/model_ner.py:57: UserWarning: `tf.nn.rnn_cell.LSTMCell` is deprecated and will be removed in a future version. This class is equivalent as `tf.keras.layers.LSTMCell`, and will be replaced by that in Tensorflow 2.0.\n",
      "  cell = tf.compat.v1.nn.rnn_cell.LSTMCell(hidden_d, name=name)\n"
     ]
    },
    {
     "name": "stdout",
     "output_type": "stream",
     "text": [
      "CPU times: user 19.3 s, sys: 6.29 s, total: 25.6 s\n",
      "Wall time: 33.1 s\n"
     ]
    }
   ],
   "source": [
    "%%time\n",
    "\n",
    "#data_utils.download_data_gdown(\"./\") # gdrive-ckip\n",
    "#    1. 安裝 tensorflow-gpu (請見安裝說明)\n",
    "\n",
    "\n",
    "ws = WS(\"/home/Code/PhD/data_collection_system/file/text_segmentation/data\", disable_cuda=False)\n",
    "pos = POS(\"/home/Code/PhD/data_collection_system/file/text_segmentation/data\")\n",
    "\n",
    "ner = NER(\"/home/Code/PhD/data_collection_system/file/text_segmentation/data\")"
   ]
  },
  {
   "cell_type": "code",
   "execution_count": 198,
   "id": "334bb03b-886e-407c-9f2f-17c05c3c712c",
   "metadata": {},
   "outputs": [
    {
     "name": "stdout",
     "output_type": "stream",
     "text": [
      "CPU times: user 1min 40s, sys: 2.6 s, total: 1min 42s\n",
      "Wall time: 1min 3s\n"
     ]
    }
   ],
   "source": [
    "%%time\n",
    "\n",
    "word_sentence_list = ws([web_content])\n",
    "pos_sentence, word_sentence = pos(word_sentence_list)[0], word_sentence_list[0]"
   ]
  },
  {
   "cell_type": "code",
   "execution_count": 20,
   "id": "17a144f7-d048-48df-8a14-e7194e8066cb",
   "metadata": {},
   "outputs": [],
   "source": [
    "#https://github.com/ckiplab/ckiptagger/wiki/Chinese-README"
   ]
  },
  {
   "cell_type": "code",
   "execution_count": 201,
   "id": "ae0a8187-4b28-4d2f-aa71-ac98cb67d542",
   "metadata": {},
   "outputs": [],
   "source": []
  },
  {
   "cell_type": "code",
   "execution_count": 253,
   "id": "6f9d0403-d598-4dd6-8c72-d84e5bc36c92",
   "metadata": {},
   "outputs": [],
   "source": [
    "def test(a: str, b: int):\n",
    "    print(a, b)"
   ]
  },
  {
   "cell_type": "code",
   "execution_count": 254,
   "id": "ed4ed2b0-64be-4f90-8f68-5f0a392413ad",
   "metadata": {},
   "outputs": [
    {
     "data": {
      "text/plain": [
       "dict_keys(['a', 'b'])"
      ]
     },
     "execution_count": 254,
     "metadata": {},
     "output_type": "execute_result"
    }
   ],
   "source": [
    "test.__annotations__.keys()"
   ]
  },
  {
   "cell_type": "code",
   "execution_count": 256,
   "id": "c2383645-2765-41c0-affc-919a26f0e294",
   "metadata": {},
   "outputs": [
    {
     "data": {
      "text/plain": [
       "dict_values([<class 'str'>, <class 'int'>])"
      ]
     },
     "execution_count": 256,
     "metadata": {},
     "output_type": "execute_result"
    }
   ],
   "source": [
    "test.__annotations__.values()"
   ]
  },
  {
   "cell_type": "code",
   "execution_count": null,
   "id": "73b91230-f681-47da-a596-952dd88bc6cf",
   "metadata": {},
   "outputs": [],
   "source": [
    "\"/home/Code/PhD/data_collection_system/file/blocklist/non_block.xlsx\""
   ]
  },
  {
   "cell_type": "code",
   "execution_count": null,
   "id": "5eef8820-d728-4982-83c7-ba5361fd1c4d",
   "metadata": {},
   "outputs": [],
   "source": []
  },
  {
   "cell_type": "code",
   "execution_count": 233,
   "id": "372aa235-bbba-47d7-a8b9-53f7843b2375",
   "metadata": {},
   "outputs": [
    {
     "data": {
      "text/plain": [
       "<__main__.Classification at 0x7fdcd7bc5a00>"
      ]
     },
     "execution_count": 233,
     "metadata": {},
     "output_type": "execute_result"
    }
   ],
   "source": [
    "Classification()"
   ]
  },
  {
   "cell_type": "code",
   "execution_count": null,
   "id": "aba37a34-1823-4e33-8bf7-c04d65fdec20",
   "metadata": {},
   "outputs": [],
   "source": [
    "#classify the web page into column, sharing and not-consider (0, 1, 2)"
   ]
  },
  {
   "cell_type": "code",
   "execution_count": 261,
   "id": "226fd0b3-4874-4217-b251-7a8c769e045d",
   "metadata": {},
   "outputs": [
    {
     "data": {
      "text/plain": [
       "2"
      ]
     },
     "execution_count": 261,
     "metadata": {},
     "output_type": "execute_result"
    }
   ],
   "source": [
    "Classification.classify_web_page_content(\"123\", \"123\")"
   ]
  },
  {
   "cell_type": "code",
   "execution_count": 8,
   "id": "42824bc0-86c8-4ab7-bf6c-1d04e63a6cbb",
   "metadata": {},
   "outputs": [],
   "source": [
    "class A():\n",
    "    pass\n",
    "class B(A):\n",
    "    pass"
   ]
  },
  {
   "cell_type": "code",
   "execution_count": 10,
   "id": "83049dfd-e8b4-4b19-82ae-254b1b2fa155",
   "metadata": {},
   "outputs": [],
   "source": [
    "a = A()\n",
    "b = B()"
   ]
  },
  {
   "cell_type": "code",
   "execution_count": 11,
   "id": "9caf7298-3890-482c-8c6a-8e462b4a8f59",
   "metadata": {},
   "outputs": [
    {
     "data": {
      "text/plain": [
       "False"
      ]
     },
     "execution_count": 11,
     "metadata": {},
     "output_type": "execute_result"
    }
   ],
   "source": [
    "a == b"
   ]
  },
  {
   "cell_type": "code",
   "execution_count": 14,
   "id": "397749f6-7ee2-4b83-999a-aaf85a7af830",
   "metadata": {},
   "outputs": [
    {
     "data": {
      "text/plain": [
       "False"
      ]
     },
     "execution_count": 14,
     "metadata": {},
     "output_type": "execute_result"
    }
   ],
   "source": [
    "isinstance(a,B)"
   ]
  },
  {
   "cell_type": "code",
   "execution_count": null,
   "id": "adeca643-ab46-4b03-a777-1fa02318f29d",
   "metadata": {},
   "outputs": [],
   "source": []
  },
  {
   "cell_type": "code",
   "execution_count": 265,
   "id": "3bc3f862-52ea-41bf-b24e-f01b064f3923",
   "metadata": {},
   "outputs": [],
   "source": [
    "url = \"b'123'\""
   ]
  },
  {
   "cell_type": "code",
   "execution_count": 323,
   "id": "e2f526de-a1eb-445e-b038-e75459a1ebd0",
   "metadata": {},
   "outputs": [],
   "source": [
    "class A():\n",
    "    def __init__(self):\n",
    "        self.c = \"cccc\"\n",
    "    \n",
    "    @staticmethod  \n",
    "    def show():\n",
    "        print(\"asd\")\n",
    "        \n",
    "class B(A):\n",
    "    def __init__(self):\n",
    "        super().__init__()\n",
    "    "
   ]
  },
  {
   "cell_type": "code",
   "execution_count": null,
   "id": "5fc17a0e-f9a7-4c5a-af1a-4e0851cf9d60",
   "metadata": {},
   "outputs": [],
   "source": []
  },
  {
   "cell_type": "code",
   "execution_count": 324,
   "id": "ddaa1490-21e6-42e0-8dae-8e51f727b504",
   "metadata": {},
   "outputs": [],
   "source": [
    "b = B()"
   ]
  },
  {
   "cell_type": "code",
   "execution_count": 326,
   "id": "cd49c4ed-d66f-4dc2-b5b6-55493b6076b5",
   "metadata": {},
   "outputs": [
    {
     "name": "stdout",
     "output_type": "stream",
     "text": [
      "asd\n"
     ]
    }
   ],
   "source": [
    "b.show()"
   ]
  },
  {
   "cell_type": "code",
   "execution_count": 312,
   "id": "696edd23-fa90-4c75-aeee-0a4025648664",
   "metadata": {},
   "outputs": [],
   "source": [
    "a.c = \"sdfsdf\""
   ]
  },
  {
   "cell_type": "code",
   "execution_count": 313,
   "id": "e6718573-678d-4b89-b625-1ca447acfd15",
   "metadata": {},
   "outputs": [],
   "source": [
    "def test(a, b=10):\n",
    "    print(a + b)"
   ]
  },
  {
   "cell_type": "code",
   "execution_count": 314,
   "id": "a97b7168-1ed7-4870-a53b-b35e5c675395",
   "metadata": {},
   "outputs": [
    {
     "name": "stdout",
     "output_type": "stream",
     "text": [
      "40\n"
     ]
    }
   ],
   "source": [
    "test(a = 10, b = 30)"
   ]
  },
  {
   "cell_type": "code",
   "execution_count": null,
   "id": "a7c4031f-1e10-4191-86e9-21d6d0883426",
   "metadata": {},
   "outputs": [],
   "source": []
  }
 ],
 "metadata": {
  "kernelspec": {
   "display_name": "Python 3 (ipykernel)",
   "language": "python",
   "name": "python3"
  },
  "language_info": {
   "codemirror_mode": {
    "name": "ipython",
    "version": 3
   },
   "file_extension": ".py",
   "mimetype": "text/x-python",
   "name": "python",
   "nbconvert_exporter": "python",
   "pygments_lexer": "ipython3",
   "version": "3.8.10"
  },
  "toc-autonumbering": true,
  "toc-showmarkdowntxt": true
 },
 "nbformat": 4,
 "nbformat_minor": 5
}
