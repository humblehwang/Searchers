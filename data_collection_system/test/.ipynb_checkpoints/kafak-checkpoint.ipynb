{
 "cells": [
  {
   "cell_type": "code",
   "execution_count": null,
   "id": "75c05b38-636c-4db6-bac2-b9528cf0731f",
   "metadata": {},
   "outputs": [],
   "source": [
    "! pip3 install  kafka-python"
   ]
  },
  {
   "cell_type": "code",
   "execution_count": null,
   "id": "0681ec1a-195c-4e68-9e16-c0f2e3d6c092",
   "metadata": {},
   "outputs": [],
   "source": []
  }
 ],
 "metadata": {
  "kernelspec": {
   "display_name": "Python 3 (ipykernel)",
   "language": "python",
   "name": "python3"
  },
  "language_info": {
   "codemirror_mode": {
    "name": "ipython",
    "version": 3
   },
   "file_extension": ".py",
   "mimetype": "text/x-python",
   "name": "python",
   "nbconvert_exporter": "python",
   "pygments_lexer": "ipython3",
   "version": "3.8.10"
  }
 },
 "nbformat": 4,
 "nbformat_minor": 5
}
