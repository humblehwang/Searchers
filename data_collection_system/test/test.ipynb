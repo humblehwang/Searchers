{
 "cells": [
  {
   "cell_type": "code",
   "execution_count": 1,
   "id": "359e8a6c",
   "metadata": {},
   "outputs": [],
   "source": [
    "import pandas as pd\n",
    "import re\n",
    "import jieba\n",
    "import jieba.analyse\n",
    "from opencc import OpenCC\n",
    "\n",
    "s2t = OpenCC('s2t')\n"
   ]
  },
  {
   "cell_type": "code",
   "execution_count": 2,
   "id": "670e40d6",
   "metadata": {},
   "outputs": [],
   "source": [
    "from snownlp import SnowNLP"
   ]
  },
  {
   "cell_type": "code",
   "execution_count": 44,
   "id": "37ca97e5",
   "metadata": {},
   "outputs": [
    {
     "data": {
      "text/plain": [
       "0.9769551298267365"
      ]
     },
     "execution_count": 44,
     "metadata": {},
     "output_type": "execute_result"
    }
   ],
   "source": []
  },
  {
   "cell_type": "code",
   "execution_count": 70,
   "id": "adb8a8b4",
   "metadata": {},
   "outputs": [
    {
     "data": {
      "text/plain": [
       "-10"
      ]
     },
     "execution_count": 70,
     "metadata": {},
     "output_type": "execute_result"
    }
   ],
   "source": [
    "a = 10\n",
    "-a"
   ]
  },
  {
   "cell_type": "code",
   "execution_count": 3,
   "id": "00d4d338",
   "metadata": {},
   "outputs": [],
   "source": [
    "filename_ced = '/home/Code/PhD/data_collection_system/file/chinese_emotional_dictionary.xlsx'\n",
    "sentment_table = pd.read_excel(filename_ced)\n",
    "sentment_table.drop(['Unnamed: 10','Unnamed: 11'],inplace=True, axis=1)\n"
   ]
  },
  {
   "cell_type": "code",
   "execution_count": 4,
   "id": "c106ec92",
   "metadata": {},
   "outputs": [],
   "source": [
    "pos_table = pd.read_excel(filename_ced,sheet_name='Sheet2')\n",
    "neg_table = pd.read_excel(filename_ced,sheet_name='Sheet3')"
   ]
  },
  {
   "cell_type": "code",
   "execution_count": 5,
   "id": "82b6eaf9",
   "metadata": {},
   "outputs": [],
   "source": [
    "pos_dict = dict(zip(list(pos_table.posword),list(pos_table.score)))\n",
    "neg_dict = dict(zip(list(neg_table.negword),map(lambda a:a*(0-1),list(neg_table.score)) ))\n",
    "sentment_dict = {**pos_dict,**neg_dict}"
   ]
  },
  {
   "cell_type": "code",
   "execution_count": 6,
   "id": "d8ca4be6",
   "metadata": {},
   "outputs": [
    {
     "name": "stderr",
     "output_type": "stream",
     "text": [
      "Building prefix dict from the default dictionary ...\n",
      "Loading model from cache /tmp/jieba.cache\n",
      "Loading model cost 0.391 seconds.\n",
      "Prefix dict has been built successfully.\n"
     ]
    }
   ],
   "source": [
    "for word in sentment_dict.keys():\n",
    "    jieba.suggest_freq(s2t.convert(word),True)"
   ]
  },
  {
   "cell_type": "code",
   "execution_count": 10,
   "id": "da32b6a2",
   "metadata": {},
   "outputs": [
    {
     "ename": "NameError",
     "evalue": "name 'wordlist' is not defined",
     "output_type": "error",
     "traceback": [
      "\u001b[0;31m---------------------------------------------------------------------------\u001b[0m",
      "\u001b[0;31mNameError\u001b[0m                                 Traceback (most recent call last)",
      "\u001b[1;32m/home/Code/PhD/data_collection_system/test/test.ipynb Cell 9\u001b[0m in \u001b[0;36m<cell line: 2>\u001b[0;34m()\u001b[0m\n\u001b[1;32m      <a href='vscode-notebook-cell://attached-container%2B7b22636f6e7461696e65724e616d65223a222f646576222c2273657474696e6773223a7b22686f7374223a227373683a2f2f3134302e3131332e37332e3536227d7d/home/Code/PhD/data_collection_system/test/test.ipynb#Y106sdnNjb2RlLXJlbW90ZQ%3D%3D?line=0'>1</a>\u001b[0m score \u001b[39m=\u001b[39m \u001b[39m0\u001b[39m\n\u001b[0;32m----> <a href='vscode-notebook-cell://attached-container%2B7b22636f6e7461696e65724e616d65223a222f646576222c2273657474696e6773223a7b22686f7374223a227373683a2f2f3134302e3131332e37332e3536227d7d/home/Code/PhD/data_collection_system/test/test.ipynb#Y106sdnNjb2RlLXJlbW90ZQ%3D%3D?line=1'>2</a>\u001b[0m \u001b[39mfor\u001b[39;00m word \u001b[39min\u001b[39;00m wordlist:\n\u001b[1;32m      <a href='vscode-notebook-cell://attached-container%2B7b22636f6e7461696e65724e616d65223a222f646576222c2273657474696e6773223a7b22686f7374223a227373683a2f2f3134302e3131332e37332e3536227d7d/home/Code/PhD/data_collection_system/test/test.ipynb#Y106sdnNjb2RlLXJlbW90ZQ%3D%3D?line=2'>3</a>\u001b[0m     \u001b[39mif\u001b[39;00m word \u001b[39min\u001b[39;00m sentment_dict\u001b[39m.\u001b[39mkeys():\n\u001b[1;32m      <a href='vscode-notebook-cell://attached-container%2B7b22636f6e7461696e65724e616d65223a222f646576222c2273657474696e6773223a7b22686f7374223a227373683a2f2f3134302e3131332e37332e3536227d7d/home/Code/PhD/data_collection_system/test/test.ipynb#Y106sdnNjb2RlLXJlbW90ZQ%3D%3D?line=3'>4</a>\u001b[0m         \u001b[39mprint\u001b[39m(score, word, sentment_dict[word])\n",
      "\u001b[0;31mNameError\u001b[0m: name 'wordlist' is not defined"
     ]
    }
   ],
   "source": [
    "score = 0\n",
    "for word in wordlist:\n",
    "    if word in sentment_dict.keys():\n",
    "        print(score, word, sentment_dict[word])\n",
    "        score += sentment_dict[word]\n",
    "\n",
    "print(score)"
   ]
  },
  {
   "cell_type": "code",
   "execution_count": 13,
   "id": "b618613c",
   "metadata": {},
   "outputs": [
    {
     "name": "stdout",
     "output_type": "stream",
     "text": [
      "4.153707859012421\n"
     ]
    }
   ],
   "source": [
    "score = 0\n",
    "for sentence in sentence_list:\n",
    "    if sentence:\n",
    "        score += SnowNLP(sentence).sentiments\n",
    "print(score)"
   ]
  },
  {
   "cell_type": "code",
   "execution_count": 7,
   "id": "dc2d7ce3-04c0-441d-917e-bd815abea6ed",
   "metadata": {},
   "outputs": [],
   "source": [
    "filename = \"/home/Code/PhD/data_collection_system/file/search_result/google_search_content_result/群暉/28a11c0da05eac039f13ce5f92349f7e.txt\"\n",
    "filename = \"test.txt\"\n",
    "with open(filename, 'r') as f:\n",
    "    web_content = f.read()"
   ]
  },
  {
   "cell_type": "code",
   "execution_count": 216,
   "id": "04593a35-5dc2-4d99-9f7b-23936a96b486",
   "metadata": {},
   "outputs": [],
   "source": [
    "#https://github.com/fxsjy/jieba"
   ]
  },
  {
   "cell_type": "code",
   "execution_count": 9,
   "id": "cfc640ee-689c-48a2-945c-43601c0394cf",
   "metadata": {},
   "outputs": [],
   "source": [
    "def chinese_word_filter(string):\n",
    "    return \"\".join(re.findall(r'[\\u4e00-\\u9FA5]+[\\uFB00-\\uFFFDh]', string))\n",
    "web_content = chinese_word_filter(web_content)"
   ]
  },
  {
   "cell_type": "code",
   "execution_count": 207,
   "id": "6e5ec0c1-83d6-4ff8-bc0e-23f135585fa7",
   "metadata": {},
   "outputs": [],
   "source": [
    "web_content = \"\".join(web_content)"
   ]
  },
  {
   "cell_type": "code",
   "execution_count": 138,
   "id": "df46bc6d-4528-4688-884a-3c50cb53dcbe",
   "metadata": {},
   "outputs": [],
   "source": [
    "web_content = \"\".join(web_content)"
   ]
  },
  {
   "cell_type": "code",
   "execution_count": 12,
   "id": "5f0d5c1b",
   "metadata": {},
   "outputs": [],
   "source": [
    "sentence_list = re.split(r\"[。|!|！|,|，|?|？]\", web_content)\n"
   ]
  },
  {
   "cell_type": "code",
   "execution_count": 93,
   "id": "7134a94c-6163-4795-ab67-6626e05193eb",
   "metadata": {},
   "outputs": [
    {
     "name": "stderr",
     "output_type": "stream",
     "text": [
      "Building prefix dict from /home/Code/PhD/data_collection_system/file/extra_dict/dict.txt.big ...\n",
      "Loading model from cache /tmp/jieba.uc62ecf2ea03b12bd1d0d7bc492374168.cache\n",
      "Loading model cost 0.620 seconds.\n",
      "Prefix dict has been built successfully.\n"
     ]
    }
   ],
   "source": [
    "jieba.set_dictionary(\"/home/Code/PhD/data_collection_system/file/extra_dict/dict.txt.big\")\n",
    "word_list = [{\"批踢踢\": \"ORG\"},{\"訊連\": \"ORG\"},{\"台積電\": \"ORG\"} ]\n",
    "for word in word_list:\n",
    "    jieba.add_word(list(word.keys())[0], tag=\"n\")"
   ]
  },
  {
   "cell_type": "code",
   "execution_count": 79,
   "id": "4612df0a-50d4-409e-a010-302355252d1e",
   "metadata": {},
   "outputs": [],
   "source": [
    "#list(jieba.cut(web_content))"
   ]
  },
  {
   "cell_type": "code",
   "execution_count": 80,
   "id": "07f6dd8e-e40f-444f-86b8-b8914c4241ba",
   "metadata": {},
   "outputs": [],
   "source": [
    " import jieba.posseg as pseg"
   ]
  },
  {
   "cell_type": "code",
   "execution_count": 96,
   "id": "489d3731-b140-4b73-9616-c9eb654475d2",
   "metadata": {},
   "outputs": [
    {
     "name": "stdout",
     "output_type": "stream",
     "text": [
      "CPU times: user 74.4 ms, sys: 0 ns, total: 74.4 ms\n",
      "Wall time: 73.9 ms\n"
     ]
    }
   ],
   "source": [
    "%%time\n",
    "\n",
    "wordlist = pseg.cut(web_content)\n",
    "wordlist = [word for word, pos in pseg.cut(web_content)]"
   ]
  },
  {
   "cell_type": "code",
   "execution_count": 97,
   "id": "b92271ed",
   "metadata": {},
   "outputs": [
    {
     "data": {
      "text/plain": [
       "['抱歉',\n",
       " '各位',\n",
       " '是',\n",
       " '我',\n",
       " '沒',\n",
       " '認真',\n",
       " '看',\n",
       " '他',\n",
       " '只',\n",
       " '問',\n",
       " '我',\n",
       " '風氣',\n",
       " '而已',\n",
       " '囧',\n",
       " '絕不',\n",
       " '刪文',\n",
       " '謝謝',\n",
       " '大家',\n",
       " '發信站',\n",
       " '批踢踢',\n",
       " '實業',\n",
       " '坊',\n",
       " '來自',\n",
       " '臺灣',\n",
       " '文章',\n",
       " '網址',\n",
       " '推',\n",
       " '呃',\n",
       " '面試',\n",
       " '時',\n",
       " '沒',\n",
       " '問',\n",
       " '主管',\n",
       " '在',\n",
       " '做',\n",
       " '甚麼',\n",
       " '嗎',\n",
       " '推',\n",
       " '那',\n",
       " '不是',\n",
       " '幫忙',\n",
       " '看',\n",
       " '的',\n",
       " '嗎',\n",
       " '推',\n",
       " '就',\n",
       " '如同',\n",
       " '這',\n",
       " '上面',\n",
       " '的',\n",
       " '描述',\n",
       " '啊',\n",
       " '推等',\n",
       " '你',\n",
       " '錄取',\n",
       " '再說',\n",
       " '推不',\n",
       " '知道',\n",
       " '做',\n",
       " '啥',\n",
       " '也',\n",
       " '拿到',\n",
       " '推',\n",
       " '保重',\n",
       " '推',\n",
       " '現在',\n",
       " '騙',\n",
       " '不到',\n",
       " '人',\n",
       " '去',\n",
       " '產線',\n",
       " '三寶',\n",
       " '解法',\n",
       " '就是',\n",
       " '在',\n",
       " '職務',\n",
       " '前面',\n",
       " '加',\n",
       " '個',\n",
       " '這',\n",
       " '解法',\n",
       " '真的',\n",
       " '是',\n",
       " '很',\n",
       " '推',\n",
       " '這樣',\n",
       " '也',\n",
       " '能',\n",
       " '拿到',\n",
       " '推',\n",
       " '主要',\n",
       " '在',\n",
       " '做',\n",
       " '什麼',\n",
       " '面試',\n",
       " '怎麼',\n",
       " '不問',\n",
       " '清楚',\n",
       " '推',\n",
       " '人生']"
      ]
     },
     "execution_count": 97,
     "metadata": {},
     "output_type": "execute_result"
    }
   ],
   "source": [
    "list(wordlist)[100:200]"
   ]
  },
  {
   "cell_type": "code",
   "execution_count": 24,
   "id": "60e3a03e-71e1-429b-a628-c5e5c0312a53",
   "metadata": {},
   "outputs": [],
   "source": [
    "jieba.enable_parallel(10)"
   ]
  },
  {
   "cell_type": "code",
   "execution_count": 25,
   "id": "5458a853-498b-446e-bc00-b20f4ab6f3f0",
   "metadata": {},
   "outputs": [
    {
     "name": "stdout",
     "output_type": "stream",
     "text": [
      "CPU times: user 3.78 ms, sys: 0 ns, total: 3.78 ms\n",
      "Wall time: 663 ms\n"
     ]
    }
   ],
   "source": [
    "%%time\n",
    "\n",
    "wordlist = pseg.cut(web_content)\n",
    "a = [pos for word, pos in pseg.cut(web_content)]"
   ]
  },
  {
   "cell_type": "code",
   "execution_count": 17,
   "id": "238cf980-e703-4329-ab2a-95553bf167c3",
   "metadata": {},
   "outputs": [
    {
     "ename": "NameError",
     "evalue": "name 'ws' is not defined",
     "output_type": "error",
     "traceback": [
      "\u001b[0;31m---------------------------------------------------------------------------\u001b[0m",
      "\u001b[0;31mNameError\u001b[0m                                 Traceback (most recent call last)",
      "File \u001b[0;32m<timed exec>:1\u001b[0m, in \u001b[0;36m<module>\u001b[0;34m\u001b[0m\n",
      "\u001b[0;31mNameError\u001b[0m: name 'ws' is not defined"
     ]
    }
   ],
   "source": [
    "%%time\n",
    "\n",
    "word_sentence_list = ws([web_content])\n",
    "pos_sentence = pos(word_sentence_list)[0]"
   ]
  },
  {
   "cell_type": "code",
   "execution_count": 17,
   "id": "5f772e7f-82ef-4c5b-b5a1-a532df80f653",
   "metadata": {},
   "outputs": [],
   "source": [
    "from ckiptagger import data_utils, construct_dictionary, WS, POS, NER\n"
   ]
  },
  {
   "cell_type": "code",
   "execution_count": 18,
   "id": "111c83ad-1413-4a6c-890f-36a662d5f98a",
   "metadata": {},
   "outputs": [
    {
     "name": "stderr",
     "output_type": "stream",
     "text": [
      "/usr/local/lib/python3.8/dist-packages/ckiptagger/model_ws.py:106: UserWarning: `tf.nn.rnn_cell.LSTMCell` is deprecated and will be removed in a future version. This class is equivalent as `tf.keras.layers.LSTMCell`, and will be replaced by that in Tensorflow 2.0.\n",
      "  cell = tf.compat.v1.nn.rnn_cell.LSTMCell(hidden_d, name=name)\n",
      "2022-08-14 06:58:04.156733: W tensorflow/stream_executor/platform/default/dso_loader.cc:64] Could not load dynamic library 'libcuda.so.1'; dlerror: libcuda.so.1: cannot open shared object file: No such file or directory\n",
      "2022-08-14 06:58:04.156747: W tensorflow/stream_executor/cuda/cuda_driver.cc:269] failed call to cuInit: UNKNOWN ERROR (303)\n",
      "2022-08-14 06:58:04.156765: I tensorflow/stream_executor/cuda/cuda_diagnostics.cc:163] no NVIDIA GPU device is present: /dev/nvidia0 does not exist\n",
      "2022-08-14 06:58:05.346734: I tensorflow/core/platform/cpu_feature_guard.cc:193] This TensorFlow binary is optimized with oneAPI Deep Neural Network Library (oneDNN) to use the following CPU instructions in performance-critical operations:  AVX2 FMA\n",
      "To enable them in other operations, rebuild TensorFlow with the appropriate compiler flags.\n",
      "2022-08-14 06:58:05.368016: I tensorflow/compiler/mlir/mlir_graph_optimization_pass.cc:354] MLIR V1 optimization pass is not enabled\n",
      "/usr/local/lib/python3.8/dist-packages/ckiptagger/model_pos.py:56: UserWarning: `tf.nn.rnn_cell.LSTMCell` is deprecated and will be removed in a future version. This class is equivalent as `tf.keras.layers.LSTMCell`, and will be replaced by that in Tensorflow 2.0.\n",
      "  cell = tf.compat.v1.nn.rnn_cell.LSTMCell(hidden_d, name=name)\n",
      "/usr/local/lib/python3.8/dist-packages/ckiptagger/model_ner.py:57: UserWarning: `tf.nn.rnn_cell.LSTMCell` is deprecated and will be removed in a future version. This class is equivalent as `tf.keras.layers.LSTMCell`, and will be replaced by that in Tensorflow 2.0.\n",
      "  cell = tf.compat.v1.nn.rnn_cell.LSTMCell(hidden_d, name=name)\n"
     ]
    },
    {
     "name": "stdout",
     "output_type": "stream",
     "text": [
      "CPU times: user 6.79 s, sys: 1.59 s, total: 8.37 s\n",
      "Wall time: 9.56 s\n"
     ]
    }
   ],
   "source": [
    "%%time\n",
    "\n",
    "#data_utils.download_data_gdown(\"./\") # gdrive-ckip\n",
    "#    1. 安裝 tensorflow-gpu (請見安裝說明)\n",
    "\n",
    "\n",
    "ws = WS(\"/home/Code/PhD/data_collection_system/file/text_segmentation/data\", disable_cuda=False)\n",
    "pos = POS(\"/home/Code/PhD/data_collection_system/file/text_segmentation/data\")\n",
    "\n",
    "ner = NER(\"/home/Code/PhD/data_collection_system/file/text_segmentation/data\")"
   ]
  },
  {
   "cell_type": "code",
   "execution_count": 26,
   "id": "05b35810",
   "metadata": {},
   "outputs": [
    {
     "data": {
      "text/plain": [
       "[2, 3, 4]"
      ]
     },
     "execution_count": 26,
     "metadata": {},
     "output_type": "execute_result"
    }
   ],
   "source": [
    "[pos for word, pos in [(1,2),(2,3),(3,4)]]"
   ]
  },
  {
   "cell_type": "code",
   "execution_count": 19,
   "id": "334bb03b-886e-407c-9f2f-17c05c3c712c",
   "metadata": {},
   "outputs": [
    {
     "name": "stdout",
     "output_type": "stream",
     "text": [
      "CPU times: user 766 ms, sys: 28.4 ms, total: 794 ms\n",
      "Wall time: 481 ms\n"
     ]
    }
   ],
   "source": [
    "%%time\n",
    "\n",
    "word_sentence_list = ws([web_content])\n",
    "pos_sentence, word_sentence = pos(word_sentence_list)[0], word_sentence_list[0]"
   ]
  },
  {
   "cell_type": "code",
   "execution_count": 20,
   "id": "6a179356",
   "metadata": {},
   "outputs": [
    {
     "data": {
      "text/plain": [
       "[['想',\n",
       "  '請問',\n",
       "  '內部',\n",
       "  '風氣',\n",
       "  '如何',\n",
       "  '呢',\n",
       "  '？',\n",
       "  '主要',\n",
       "  '是',\n",
       "  '在',\n",
       "  '做',\n",
       "  '什麼',\n",
       "  '呢',\n",
       "  '？',\n",
       "  '想',\n",
       "  '請問',\n",
       "  '內部',\n",
       "  '風氣',\n",
       "  '如何',\n",
       "  '呢',\n",
       "  '？',\n",
       "  '主要',\n",
       "  '是',\n",
       "  '在',\n",
       "  '做',\n",
       "  '什麼',\n",
       "  '呢',\n",
       "  '？',\n",
       "  '想',\n",
       "  '請問',\n",
       "  '內部',\n",
       "  '風氣',\n",
       "  '如何',\n",
       "  '呢',\n",
       "  '？',\n",
       "  '主要',\n",
       "  '是',\n",
       "  '在',\n",
       "  '做',\n",
       "  '什麼',\n",
       "  '呢',\n",
       "  '？',\n",
       "  '面試',\n",
       "  '時',\n",
       "  '沒',\n",
       "  '問',\n",
       "  '主管',\n",
       "  '在',\n",
       "  '做',\n",
       "  '甚麼',\n",
       "  '嗎',\n",
       "  '？',\n",
       "  '現在',\n",
       "  '騙',\n",
       "  '不',\n",
       "  '到',\n",
       "  '人',\n",
       "  '去',\n",
       "  '產',\n",
       "  '線',\n",
       "  '三',\n",
       "  '寶',\n",
       "  '，',\n",
       "  '主要',\n",
       "  '在',\n",
       "  '做',\n",
       "  '什麼',\n",
       "  '？']]"
      ]
     },
     "execution_count": 20,
     "metadata": {},
     "output_type": "execute_result"
    }
   ],
   "source": [
    "word_sentence_list"
   ]
  },
  {
   "cell_type": "code",
   "execution_count": 20,
   "id": "17a144f7-d048-48df-8a14-e7194e8066cb",
   "metadata": {},
   "outputs": [],
   "source": [
    "#https://github.com/ckiplab/ckiptagger/wiki/Chinese-README"
   ]
  },
  {
   "cell_type": "code",
   "execution_count": 201,
   "id": "ae0a8187-4b28-4d2f-aa71-ac98cb67d542",
   "metadata": {},
   "outputs": [],
   "source": []
  },
  {
   "cell_type": "code",
   "execution_count": 253,
   "id": "6f9d0403-d598-4dd6-8c72-d84e5bc36c92",
   "metadata": {},
   "outputs": [],
   "source": [
    "def test(a: str, b: int):\n",
    "    print(a, b)"
   ]
  },
  {
   "cell_type": "code",
   "execution_count": 254,
   "id": "ed4ed2b0-64be-4f90-8f68-5f0a392413ad",
   "metadata": {},
   "outputs": [
    {
     "data": {
      "text/plain": [
       "dict_keys(['a', 'b'])"
      ]
     },
     "execution_count": 254,
     "metadata": {},
     "output_type": "execute_result"
    }
   ],
   "source": [
    "test.__annotations__.keys()"
   ]
  },
  {
   "cell_type": "code",
   "execution_count": 256,
   "id": "c2383645-2765-41c0-affc-919a26f0e294",
   "metadata": {},
   "outputs": [
    {
     "data": {
      "text/plain": [
       "dict_values([<class 'str'>, <class 'int'>])"
      ]
     },
     "execution_count": 256,
     "metadata": {},
     "output_type": "execute_result"
    }
   ],
   "source": [
    "test.__annotations__.values()"
   ]
  },
  {
   "cell_type": "code",
   "execution_count": null,
   "id": "73b91230-f681-47da-a596-952dd88bc6cf",
   "metadata": {},
   "outputs": [],
   "source": [
    "\"/home/Code/PhD/data_collection_system/file/blocklist/non_block.xlsx\""
   ]
  },
  {
   "cell_type": "code",
   "execution_count": null,
   "id": "5eef8820-d728-4982-83c7-ba5361fd1c4d",
   "metadata": {},
   "outputs": [],
   "source": []
  },
  {
   "cell_type": "code",
   "execution_count": 233,
   "id": "372aa235-bbba-47d7-a8b9-53f7843b2375",
   "metadata": {},
   "outputs": [
    {
     "data": {
      "text/plain": [
       "<__main__.Classification at 0x7fdcd7bc5a00>"
      ]
     },
     "execution_count": 233,
     "metadata": {},
     "output_type": "execute_result"
    }
   ],
   "source": [
    "Classification()"
   ]
  },
  {
   "cell_type": "code",
   "execution_count": null,
   "id": "aba37a34-1823-4e33-8bf7-c04d65fdec20",
   "metadata": {},
   "outputs": [],
   "source": [
    "#classify the web page into column, sharing and not-consider (0, 1, 2)"
   ]
  },
  {
   "cell_type": "code",
   "execution_count": 261,
   "id": "226fd0b3-4874-4217-b251-7a8c769e045d",
   "metadata": {},
   "outputs": [
    {
     "data": {
      "text/plain": [
       "2"
      ]
     },
     "execution_count": 261,
     "metadata": {},
     "output_type": "execute_result"
    }
   ],
   "source": [
    "Classification.classify_web_page_content(\"123\", \"123\")"
   ]
  },
  {
   "cell_type": "code",
   "execution_count": 8,
   "id": "42824bc0-86c8-4ab7-bf6c-1d04e63a6cbb",
   "metadata": {},
   "outputs": [],
   "source": [
    "class A():\n",
    "    pass\n",
    "class B(A):\n",
    "    pass"
   ]
  },
  {
   "cell_type": "code",
   "execution_count": 10,
   "id": "83049dfd-e8b4-4b19-82ae-254b1b2fa155",
   "metadata": {},
   "outputs": [],
   "source": [
    "a = A()\n",
    "b = B()"
   ]
  },
  {
   "cell_type": "code",
   "execution_count": 11,
   "id": "9caf7298-3890-482c-8c6a-8e462b4a8f59",
   "metadata": {},
   "outputs": [
    {
     "data": {
      "text/plain": [
       "False"
      ]
     },
     "execution_count": 11,
     "metadata": {},
     "output_type": "execute_result"
    }
   ],
   "source": [
    "a == b"
   ]
  },
  {
   "cell_type": "code",
   "execution_count": 23,
   "id": "397749f6-7ee2-4b83-999a-aaf85a7af830",
   "metadata": {},
   "outputs": [
    {
     "ename": "TypeError",
     "evalue": "Expected int, got <class 'str'>",
     "output_type": "error",
     "traceback": [
      "\u001b[0;31m---------------------------------------------------------------------------\u001b[0m",
      "\u001b[0;31mTypeError\u001b[0m                                 Traceback (most recent call last)",
      "Input \u001b[0;32mIn [23]\u001b[0m, in \u001b[0;36m<cell line: 1>\u001b[0;34m()\u001b[0m\n\u001b[0;32m----> 1\u001b[0m \u001b[43mtest\u001b[49m\u001b[43m(\u001b[49m\u001b[38;5;124;43m\"\u001b[39;49m\u001b[38;5;124;43ms\u001b[39;49m\u001b[38;5;124;43m\"\u001b[39;49m\u001b[43m,\u001b[49m\u001b[43m \u001b[49m\u001b[38;5;241;43m10\u001b[39;49m\u001b[43m)\u001b[49m\n",
      "Input \u001b[0;32mIn [22]\u001b[0m, in \u001b[0;36mtest\u001b[0;34m(a, b)\u001b[0m\n\u001b[1;32m      1\u001b[0m \u001b[38;5;28;01mdef\u001b[39;00m \u001b[38;5;21mtest\u001b[39m(a, b):\n\u001b[0;32m----> 2\u001b[0m     \u001b[38;5;28;01mraise\u001b[39;00m \u001b[38;5;167;01mTypeError\u001b[39;00m(\u001b[38;5;124m\"\u001b[39m\u001b[38;5;124mExpected int, got \u001b[39m\u001b[38;5;132;01m%s\u001b[39;00m\u001b[38;5;124m\"\u001b[39m \u001b[38;5;241m%\u001b[39m (\u001b[38;5;28mtype\u001b[39m(a),))\n",
      "\u001b[0;31mTypeError\u001b[0m: Expected int, got <class 'str'>"
     ]
    }
   ],
   "source": [
    "test(\"s\", 10)"
   ]
  },
  {
   "cell_type": "code",
   "execution_count": 22,
   "id": "adeca643-ab46-4b03-a777-1fa02318f29d",
   "metadata": {},
   "outputs": [],
   "source": [
    "def test(a, b):\n",
    "    raise TypeError(\"Expected int, got %s\" % (type(a),))"
   ]
  },
  {
   "cell_type": "code",
   "execution_count": 265,
   "id": "3bc3f862-52ea-41bf-b24e-f01b064f3923",
   "metadata": {},
   "outputs": [],
   "source": [
    "url = \"b'123'\""
   ]
  },
  {
   "cell_type": "code",
   "execution_count": 323,
   "id": "e2f526de-a1eb-445e-b038-e75459a1ebd0",
   "metadata": {},
   "outputs": [],
   "source": [
    "class A():\n",
    "    def __init__(self):\n",
    "        self.c = \"cccc\"\n",
    "    \n",
    "    @staticmethod  \n",
    "    def show():\n",
    "        print(\"asd\")\n",
    "        \n",
    "class B(A):\n",
    "    def __init__(self):\n",
    "        super().__init__()\n",
    "    "
   ]
  },
  {
   "cell_type": "code",
   "execution_count": null,
   "id": "5fc17a0e-f9a7-4c5a-af1a-4e0851cf9d60",
   "metadata": {},
   "outputs": [],
   "source": []
  },
  {
   "cell_type": "code",
   "execution_count": 324,
   "id": "ddaa1490-21e6-42e0-8dae-8e51f727b504",
   "metadata": {},
   "outputs": [],
   "source": [
    "b = B()"
   ]
  },
  {
   "cell_type": "code",
   "execution_count": 326,
   "id": "cd49c4ed-d66f-4dc2-b5b6-55493b6076b5",
   "metadata": {},
   "outputs": [
    {
     "name": "stdout",
     "output_type": "stream",
     "text": [
      "asd\n"
     ]
    }
   ],
   "source": [
    "b.show()"
   ]
  },
  {
   "cell_type": "code",
   "execution_count": 312,
   "id": "696edd23-fa90-4c75-aeee-0a4025648664",
   "metadata": {},
   "outputs": [],
   "source": [
    "a.c = \"sdfsdf\""
   ]
  },
  {
   "cell_type": "code",
   "execution_count": 24,
   "id": "e6718573-678d-4b89-b625-1ca447acfd15",
   "metadata": {},
   "outputs": [],
   "source": [
    "def test(a, b=10):\n",
    "    if not isinstance(a, int):\n",
    "        raise TypeError(\"Param must be int\")\n",
    "    print(a + b)"
   ]
  },
  {
   "cell_type": "code",
   "execution_count": 42,
   "id": "a97b7168-1ed7-4870-a53b-b35e5c675395",
   "metadata": {},
   "outputs": [],
   "source": [
    "filename = \"/1home/Code/PhD/data_collection_system/file/search_result/google_search_content_result/群暉/28a11c0da05eac039f13ce5f92349f7e.txt\"\n",
    "\n",
    "def get_web_content( filename: str) -> str:\n",
    "    \"\"\"Open the HTML file in str format\n",
    "\n",
    "    Args:\n",
    "        filename(str)\n",
    "    Returns:\n",
    "        str: file content or empty string\n",
    "    \"\"\"\n",
    "    try:\n",
    "        with open(filename, 'r', encoding=\"utf-8\") as file:\n",
    "            return file.read()\n",
    "    except OSError as error:\n",
    "        print((f\"get_web_content of {filename} with {error}\"))\n",
    "        raise error"
   ]
  },
  {
   "cell_type": "code",
   "execution_count": 39,
   "id": "a7c4031f-1e10-4191-86e9-21d6d0883426",
   "metadata": {},
   "outputs": [],
   "source": [
    "a = \"adsfsda\""
   ]
  },
  {
   "cell_type": "code",
   "execution_count": 44,
   "id": "32f4b558-cf8a-4a7f-82dd-71761b3b1eb7",
   "metadata": {},
   "outputs": [
    {
     "name": "stdout",
     "output_type": "stream",
     "text": [
      "1\n"
     ]
    }
   ],
   "source": [
    "if a.count('a'):\n",
    "    print(1)"
   ]
  },
  {
   "cell_type": "code",
   "execution_count": null,
   "id": "f9e09ee4-af20-42be-9f1d-51bbbb57d6a5",
   "metadata": {},
   "outputs": [],
   "source": []
  },
  {
   "cell_type": "code",
   "execution_count": 47,
   "id": "d854f25b-46a0-4639-bfd0-5abdab5326c8",
   "metadata": {},
   "outputs": [
    {
     "ename": "TypeError",
     "evalue": "Can't instantiate abstract class Jieba with abstract methods _Segmentatior__get_pos_list",
     "output_type": "error",
     "traceback": [
      "\u001b[0;31m---------------------------------------------------------------------------\u001b[0m",
      "\u001b[0;31mTypeError\u001b[0m                                 Traceback (most recent call last)",
      "Input \u001b[0;32mIn [47]\u001b[0m, in \u001b[0;36m<cell line: 1>\u001b[0;34m()\u001b[0m\n\u001b[0;32m----> 1\u001b[0m \u001b[43mJieba\u001b[49m\u001b[43m(\u001b[49m\u001b[43m)\u001b[49m\n",
      "\u001b[0;31mTypeError\u001b[0m: Can't instantiate abstract class Jieba with abstract methods _Segmentatior__get_pos_list"
     ]
    }
   ],
   "source": [
    "Jieba()"
   ]
  },
  {
   "cell_type": "code",
   "execution_count": 46,
   "id": "0d0c9066-170f-4751-83ec-8c9b1d29a3af",
   "metadata": {},
   "outputs": [
    {
     "name": "stdout",
     "output_type": "stream",
     "text": [
      "medium.com\n"
     ]
    }
   ],
   "source": [
    "from urllib.parse import urlparse\n",
    "domain = urlparse('https://medium.com/@kevin97563/taiwan-google-%E7%A1%AC%E9%AB%94%E8%A8%AD%E8%A8%88%E9%9D%A2%E8%A9%A6%E5%BF%83%E5%BE%97-85572a85db55').netloc\n",
    "print(domain)"
   ]
  },
  {
   "cell_type": "code",
   "execution_count": 27,
   "id": "ffec8a98-ec43-4089-8a8a-0cda6b91ef63",
   "metadata": {},
   "outputs": [
    {
     "data": {
      "text/plain": [
       "'supermavster.com'"
      ]
     },
     "execution_count": 27,
     "metadata": {},
     "output_type": "execute_result"
    }
   ],
   "source": [
    "domain"
   ]
  },
  {
   "cell_type": "code",
   "execution_count": 29,
   "id": "afa9d7e4-4a76-413c-9cc7-ea4714d15f9f",
   "metadata": {},
   "outputs": [],
   "source": [
    "url_list = [\"https://janus-shiau.medium.com/ailabs-experience-43b60c4a8ab0\",\"https://interview.tw/c/rMzQ\",\"https://interview.tw/c/7w9M\",\"https://buzzorange.com/techorange/2017/05/02/to-ptt-ai-lab/\",\"https://info.todohealth.com/43529428\",\"https://www.goodjob.life/experiences/5d42490f260cf60019a1dd82\",\"https://1minute4health.com/results/eb6054815ffe7c5d698e\",\"https://igotojapan.com/entry/34064407\",\"https://igotojapan.com/entry/15394034\",\"https://hackmd.io/@Udemyi1vQbOUsmVu4-Nu1w/BJO1UIBU_\",\"https://www.pttweb.cc/bbs/Tech_Job/M.1565323712.A.1B8\",\"https://salary.tw/c/7w9M\",\"https://pttcareer.com/tech_job/M.1598792705.A.617.html\",\"https://uh.warminskieszutry.pl/%E9%9D%A2%E8%A9%A6%E5%BF%83%E5%BE%97_ptt.html\",\"https://www.1111.com.tw/1000w/fanshome/discussTopic.asp?cat=FANS&id=298849\",\"https://pharmknow.com/tag/ai+labs%E8%96%AA%E6%B0%B4-1\",\"https://job.reviewiki.com/keywords/ai%E9%9D%A2%E8%A9%A6%E5%BF%83%E5%BE%97\",\"https://www.etravelist.com/keywords/ai%E9%9D%A2%E8%A9%A6ptt\",\"https://www.dcard.tw/f/tech_job/p/237098042\",\"https://www.cheers.com.tw/article/article.action?id=5096862\",\"https://beauty.iwiki.tw/info/235150\",\"https://home.gamer.com.tw/creationDetail.php?sn=4369702\",\"https://thagoda.com/entry/6948837\",\"https://softwarebrother.com/entry/%E5%8F%B0%E7%81%A3%E4%BA%BA%E5%B7%A5%E6%99%BA%E6%85%A7%E5%AF%A6%E9%A9%97%E5%AE%A4%E9%9D%A2%E8%A9%A6.html\",\"https://m.facebook.com/TechOrange/posts/1376481662374569?locale=zh_TW\",\"https://www.twblogs.net/a/5e52b84abd9eee2117c2f597\",\"https://tw.coderbridge.com/@lastpower65/9b693436e7d34d089749c10e1ae0d370\",\"https://easylife.tw/tag/%E5%8F%B0%E7%81%A3AI%E5%AF%A6%E9%A9%97%E5%AE%A4%20%E8%96%AA%E6%B0%B4%20PTT-1\",\"https://qingcheng.li/ios-%E5%89%8D%E7%AB%AF%E8%88%87%E8%BB%9F%E9%AB%94%E5%B7%A5%E7%A8%8B%E5%B8%AB%E6%B1%82%E8%81%B7%E5%BF%83%E5%BE%97-cc49aef4f45d\",\"https://pttyes.com/Soft_Job/M.1650481831.A.DA6\",\"https://www.bnext.com.tw/article/49956/interview-ptt-tu\",\"https://kknews.cc/zh-tw/tech/gjo3eam.html\",\"https://blogsbodasdeisabel.com/cloud/%E6%A9%9F%E5%99%A8%E5%AD%B8%E7%BF%92+%E5%B7%A5%E7%A8%8B%E5%B8%AB+ptt%0D%0A\",\"https://dy.marcoplbudownictwo.eu/%E9%9D%A2%E8%A9%A6%E5%BF%83%E5%BE%97_ptt.html\",\"https://am.laarzicht.eu/%E5%A4%A7%E5%89%B5_%E7%A0%94_ptt.html\",\"https://tz.yogaenqigong.nl/%E9%9D%A2%E8%A9%A6%E5%BF%83%E5%BE%97_ptt.html\",\"https://chinese.engadget.com/google-ai-job-interview-warmup-100003964.html\",\"https://pttcareers.com/Soft_Job/1VoTpgHl\",\"http://tag.analysis.tw/news_media.php?media=techorange&newsid=6446\",\"https://www.storm.mg/lifestyle/466561?mode=whole\",\"https://vn.mojezazemi.cz/%E9%9D%A2%E8%A9%A6%E5%BF%83%E5%BE%97_ptt.html\",\"https://pqc.plakatowaniezielonagora.pl/%E9%9D%A2%E8%A9%A6%E5%BF%83%E5%BE%97_ptt.html\",\"https://stronosfera.pl/%E9%9D%A2%E8%A9%A6%E5%BF%83%E5%BE%97_ptt.html\",\"https://zej.mintblow.eu/%E9%9D%A2%E8%A9%A6%E5%BF%83%E5%BE%97_ptt.html\",\"https://www.ywuoiajf.me/%E5%8F%B0%E7%81%A3%E4%BA%BA%E5%B7%A5%E6%99%BA%E6%85%A7%E5%AF%A6%E9%A9%97%E5%AE%A4-%E4%BA%BA%E5%B7%A5%E6%99%BA%E6%85%A7%E6%87%89%E7%94%A8%E5%AF%A6%E4%BE%8B/\",\"https://moptt.tw/p/Soft_Job.M.1541212374.A.3F3\",\"https://rv.ekosortownia.pl/%E9%9D%A2%E8%A9%A6%E5%BF%83%E5%BE%97_ptt.html\",\"https://www.ykshen.co/ai-%E5%85%AC%E5%8F%B8-ptt.html\",\"https://myptt.cc/article/Soft_Job/M.1509675588.A.BD6\",\"https://warsier.gitbooks.io/yugioh_master_rule_3/content/7/73.html\"]\n"
   ]
  },
  {
   "cell_type": "code",
   "execution_count": 62,
   "id": "079ac58e-3583-415e-ae3f-3e976c608e37",
   "metadata": {},
   "outputs": [
    {
     "data": {
      "text/plain": [
       "b'www.goodjob.life'"
      ]
     },
     "execution_count": 62,
     "metadata": {},
     "output_type": "execute_result"
    }
   ],
   "source": [
    "\"www.goodjob.life\".encode(\"utf-8\")"
   ]
  },
  {
   "cell_type": "code",
   "execution_count": 33,
   "id": "fcb632f2-a13b-48f7-978c-24fa6070ebee",
   "metadata": {},
   "outputs": [
    {
     "name": "stdout",
     "output_type": "stream",
     "text": [
      "janus-shiau.medium.com\n",
      "interview.tw\n",
      "interview.tw\n",
      "buzzorange.com\n",
      "info.todohealth.com\n",
      "www.goodjob.life\n",
      "1minute4health.com\n",
      "igotojapan.com\n",
      "igotojapan.com\n",
      "hackmd.io\n",
      "www.pttweb.cc\n",
      "salary.tw\n",
      "pttcareer.com\n",
      "uh.warminskieszutry.pl\n",
      "www.1111.com.tw\n",
      "pharmknow.com\n",
      "job.reviewiki.com\n",
      "www.etravelist.com\n",
      "www.dcard.tw\n",
      "www.cheers.com.tw\n",
      "beauty.iwiki.tw\n",
      "home.gamer.com.tw\n",
      "thagoda.com\n",
      "softwarebrother.com\n",
      "m.facebook.com\n",
      "www.twblogs.net\n",
      "tw.coderbridge.com\n",
      "easylife.tw\n",
      "qingcheng.li\n",
      "pttyes.com\n",
      "www.bnext.com.tw\n",
      "kknews.cc\n",
      "blogsbodasdeisabel.com\n",
      "dy.marcoplbudownictwo.eu\n",
      "am.laarzicht.eu\n",
      "tz.yogaenqigong.nl\n",
      "chinese.engadget.com\n",
      "pttcareers.com\n",
      "tag.analysis.tw\n",
      "www.storm.mg\n",
      "vn.mojezazemi.cz\n",
      "pqc.plakatowaniezielonagora.pl\n",
      "stronosfera.pl\n",
      "zej.mintblow.eu\n",
      "www.ywuoiajf.me\n",
      "moptt.tw\n",
      "rv.ekosortownia.pl\n",
      "www.ykshen.co\n",
      "myptt.cc\n",
      "warsier.gitbooks.io\n"
     ]
    }
   ],
   "source": [
    "for url in url_list:\n",
    "    domain = urlparse(url).netloc\n",
    "    print(domain)"
   ]
  },
  {
   "cell_type": "code",
   "execution_count": 31,
   "id": "dbb7981c-61af-4379-a94f-59711cdc1908",
   "metadata": {},
   "outputs": [],
   "source": [
    "url_list2 = [\"pttqa.com\",\"pttdigit.com\",\"myshare.url.com.tw\",\"www.cmoney.tw\",\"community.htc.com\",\"ptt-chat.com\",\"pttyes.com\",\"ptt-politics.com\",\"www.plytic.com\",\"ptt.reviews\",\"doitwell.app\",\"www.engtw.com\",\"ptthito.com\",\"ganfanren.tw\",\"b.bbi.com.tw\",\"ptt-life.com\",\"webptt.com\",\"disp.cc\",\"moptt.tw\",\"www.ptt.cc\",\"pttweb.tw\",\"ucptt.com\",\"pttcareers.com\",\"www.bfptt.cc\",\"myptt.cc \",\"pttsubject.com\",\"itaiwantech.blogspot.com\",\"home.gamer.com.tw\",\"104.com\",\"blog.104.com.tw\",\"www.jobforum.tw\",\"www.1111.com.tw\",\"medium.com\",\"www.goodjob.life\",\"www.dcard.tw\",\"facebook\",\"hackmd.io\",\"ptt\",\"interview.tw\",\"github.io\",\"github.com\",\"salary.tw\",\"tw.coderbridge.com\",\"pixnet.net/blog/\",\"www.scribd.com\",\"www.slideshare.net\",\"wordpress.com\",\"indeed.com\",\"www.518.com.tw\",\"glints.com/tw/blog\",\"glints.com\",\"jecho.me\",\"popdaily.com.tw\",\"www.storm.mg\",\"ithelp.ithome.com.tw\",\"ithome.com.tw\",\"today.line.me\",\"www.1111transfer.com.tw\",\"www.youtube.com\",\"vocus.cc\",\"www.blink.com.tw\",\"udn.com\",\"www.inside.com.tw\",\"buzzorange.com\",\"www.cakeresume.com/resources\",\"www.cakeresume.com\",\"column.meet.jobs\",\"www.cheers.com.tw\",\"crossing.cw.com.tw\",\"www.bnext.com.tw\",\"chinese.engadget.com\",\"kknews.cc\",\"read01\",\"qollie.com\",\"www.gvm.com.tw\",\"www.managertoday.com.tw\",\"cbook.tw\",\"www.businesstoday.com.tw\",\"blog.starrocket.io\",\"dishtsai.com\",\"bettywutalk.com\",\"www.businessweekly.com.tw\",\"www.letsgoget.info\",\"www.1point3acres.com\",\"blog.dcplus.com.tw\",\"tw.alphacamp.co\",\"www.yourator.co/articles\",\"www.yourator.co\",\"column.meet.jobs\",\"meet.job\",\"thenewslens.com\",\"mobile01.com\",\"instagram.com\",\"blog.csdn.net\",\"blog.xuite.net\",]\n"
   ]
  },
  {
   "cell_type": "code",
   "execution_count": 66,
   "id": "2aa3d778-606f-409c-838e-bfa9f7008049",
   "metadata": {},
   "outputs": [],
   "source": [
    "from kafka import KafkaConsumer\n",
    "\n",
    "consumer = KafkaConsumer(\n",
    "    'my-test-topic',\n",
    "    #group_id='group-a',\n",
    "    bootstrap_servers=['140.113.73.56:9092'],\n",
    "    enable_auto_commit=False,\n",
    ")\n",
    "\n"
   ]
  },
  {
   "cell_type": "code",
   "execution_count": 69,
   "id": "9cdd8826-3e27-4c8a-9156-f2d86ff72a7b",
   "metadata": {},
   "outputs": [
    {
     "data": {
      "text/plain": [
       "<kafka.consumer.group.KafkaConsumer at 0x7f3befe95a60>"
      ]
     },
     "execution_count": 69,
     "metadata": {},
     "output_type": "execute_result"
    }
   ],
   "source": [
    "consumer"
   ]
  },
  {
   "cell_type": "code",
   "execution_count": null,
   "id": "e830cf38",
   "metadata": {},
   "outputs": [],
   "source": [
    "for message in consumer:\n",
    "    print(message)\n",
    "    print('%s:%d:%d: key=%s value=%s' % (\n",
    "        message.topic,\n",
    "        message.partition,\n",
    "        message.offset,\n",
    "        message.key,\n",
    "        message.value\n",
    "    ))"
   ]
  }
 ],
 "metadata": {
  "kernelspec": {
   "display_name": "Python 3 (ipykernel)",
   "language": "python",
   "name": "python3"
  },
  "language_info": {
   "codemirror_mode": {
    "name": "ipython",
    "version": 3
   },
   "file_extension": ".py",
   "mimetype": "text/x-python",
   "name": "python",
   "nbconvert_exporter": "python",
   "pygments_lexer": "ipython3",
   "version": "3.8.10"
  },
  "toc-autonumbering": true,
  "toc-showmarkdowntxt": true,
  "vscode": {
   "interpreter": {
    "hash": "916dbcbb3f70747c44a77c7bcd40155683ae19c65e1c03b4aa3499c5328201f1"
   }
  }
 },
 "nbformat": 4,
 "nbformat_minor": 5
}
