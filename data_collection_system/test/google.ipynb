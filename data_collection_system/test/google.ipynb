{
 "cells": [
  {
   "cell_type": "code",
   "execution_count": 59,
   "id": "2a20d126",
   "metadata": {},
   "outputs": [
    {
     "ename": "ModuleNotFoundError",
     "evalue": "No module named 'jieba'",
     "output_type": "error",
     "traceback": [
      "\u001b[0;31m---------------------------------------------------------------------------\u001b[0m",
      "\u001b[0;31mModuleNotFoundError\u001b[0m                       Traceback (most recent call last)",
      "Input \u001b[0;32mIn [59]\u001b[0m, in \u001b[0;36m<cell line: 3>\u001b[0;34m()\u001b[0m\n\u001b[1;32m      1\u001b[0m \u001b[38;5;28;01mimport\u001b[39;00m \u001b[38;5;21;01mre\u001b[39;00m\n\u001b[1;32m      2\u001b[0m \u001b[38;5;28;01mimport\u001b[39;00m \u001b[38;5;21;01mrequests\u001b[39;00m\n\u001b[0;32m----> 3\u001b[0m \u001b[38;5;28;01mimport\u001b[39;00m \u001b[38;5;21;01mjieba\u001b[39;00m\n\u001b[1;32m      4\u001b[0m \u001b[38;5;28;01mfrom\u001b[39;00m \u001b[38;5;21;01mbs4\u001b[39;00m \u001b[38;5;28;01mimport\u001b[39;00m BeautifulSoup\n\u001b[1;32m      5\u001b[0m \u001b[38;5;28;01mimport\u001b[39;00m \u001b[38;5;21;01mmatplotlib\u001b[39;00m\u001b[38;5;21;01m.\u001b[39;00m\u001b[38;5;21;01mpyplot\u001b[39;00m \u001b[38;5;28;01mas\u001b[39;00m \u001b[38;5;21;01mplt\u001b[39;00m\n",
      "\u001b[0;31mModuleNotFoundError\u001b[0m: No module named 'jieba'"
     ]
    }
   ],
   "source": [
    "import re\n",
    "import requests\n",
    "import jieba\n",
    "from bs4 import BeautifulSoup\n",
    "import matplotlib.pyplot as plt\n",
    "from wordcloud import WordCloud\n",
    "from aiohttp import ClientSession\n",
    "from bs4 import BeautifulSoup\n",
    "import asyncio\n",
    "import time\n",
    "import json\n",
    "import cloudscraper"
   ]
  },
  {
   "cell_type": "code",
   "execution_count": 44,
   "id": "ce0ecb8f-d8da-406c-aea6-207d83edd497",
   "metadata": {},
   "outputs": [],
   "source": [
    "import os\n",
    "import random\n",
    "import sys\n",
    "import time\n",
    "import ssl\n"
   ]
  },
  {
   "cell_type": "code",
   "execution_count": 56,
   "id": "93a23f94-7b99-4f5e-b824-4d92cb3e5d19",
   "metadata": {},
   "outputs": [],
   "source": [
    "from urllib.request import Request\n",
    "import urllib.parse\n",
    "import urllib.request"
   ]
  },
  {
   "cell_type": "code",
   "execution_count": 59,
   "id": "859222f4-5e80-4b5d-8653-832b6d53eabd",
   "metadata": {},
   "outputs": [],
   "source": [
    "req = Request('https://www.yahoo.com.tw/')"
   ]
  },
  {
   "cell_type": "code",
   "execution_count": 47,
   "id": "f1e8e1c0-550a-44e5-b672-61f6842b6f5a",
   "metadata": {},
   "outputs": [
    {
     "ename": "TypeError",
     "evalue": "__init__() got an unexpected keyword argument 'proxies'",
     "output_type": "error",
     "traceback": [
      "\u001b[0;31m---------------------------------------------------------------------------\u001b[0m",
      "\u001b[0;31mTypeError\u001b[0m                                 Traceback (most recent call last)",
      "Input \u001b[0;32mIn [47]\u001b[0m, in \u001b[0;36m<cell line: 2>\u001b[0;34m()\u001b[0m\n\u001b[1;32m      1\u001b[0m proxy_ip \u001b[38;5;241m=\u001b[39m \u001b[38;5;124m\"\u001b[39m\u001b[38;5;124m157.100.12.138:999\u001b[39m\u001b[38;5;124m\"\u001b[39m\n\u001b[0;32m----> 2\u001b[0m response \u001b[38;5;241m=\u001b[39m \u001b[43mRequest\u001b[49m\u001b[43m(\u001b[49m\u001b[38;5;124;43m'\u001b[39;49m\u001b[38;5;124;43mhttps://www.inside.com.tw/\u001b[39;49m\u001b[38;5;124;43m'\u001b[39;49m\u001b[43m,\u001b[49m\n\u001b[1;32m      3\u001b[0m \u001b[43m                                \u001b[49m\u001b[43mproxies\u001b[49m\u001b[38;5;241;43m=\u001b[39;49m\u001b[43m{\u001b[49m\u001b[38;5;124;43m'\u001b[39;49m\u001b[38;5;124;43mhttp\u001b[39;49m\u001b[38;5;124;43m'\u001b[39;49m\u001b[43m:\u001b[49m\u001b[43m \u001b[49m\u001b[38;5;124;43mf\u001b[39;49m\u001b[38;5;124;43m'\u001b[39;49m\u001b[38;5;132;43;01m{\u001b[39;49;00m\u001b[43mproxy_ip\u001b[49m\u001b[38;5;132;43;01m}\u001b[39;49;00m\u001b[38;5;124;43m'\u001b[39;49m\u001b[43m,\u001b[49m\u001b[43m \u001b[49m\u001b[38;5;124;43m'\u001b[39;49m\u001b[38;5;124;43mhttps\u001b[39;49m\u001b[38;5;124;43m'\u001b[39;49m\u001b[43m:\u001b[49m\u001b[43m \u001b[49m\u001b[38;5;124;43mf\u001b[39;49m\u001b[38;5;124;43m'\u001b[39;49m\u001b[38;5;132;43;01m{\u001b[39;49;00m\u001b[43mproxy_ip\u001b[49m\u001b[38;5;132;43;01m}\u001b[39;49;00m\u001b[38;5;124;43m'\u001b[39;49m\u001b[43m}\u001b[49m\u001b[43m)\u001b[49m\n",
      "\u001b[0;31mTypeError\u001b[0m: __init__() got an unexpected keyword argument 'proxies'"
     ]
    }
   ],
   "source": [
    "proxy_ip = \"157.100.12.138:999\"\n",
    "response = Request('https://www.inside.com.tw/',\n",
    "                                proxies={'http': f'{proxy_ip}', 'https': f'{proxy_ip}'})"
   ]
  },
  {
   "cell_type": "code",
   "execution_count": null,
   "id": "286b3c47-4078-4e4a-b72a-b31326181f25",
   "metadata": {},
   "outputs": [],
   "source": []
  },
  {
   "cell_type": "code",
   "execution_count": 60,
   "id": "f603294b",
   "metadata": {},
   "outputs": [],
   "source": [
    "GOOGLE_AD_TAG = '<script async'"
   ]
  },
  {
   "cell_type": "code",
   "execution_count": 68,
   "id": "4baa66a4",
   "metadata": {},
   "outputs": [
    {
     "ename": "TypeError",
     "evalue": "search() got an unexpected keyword argument 'stop'",
     "output_type": "error",
     "traceback": [
      "\u001b[0;31m---------------------------------------------------------------------------\u001b[0m",
      "\u001b[0;31mTypeError\u001b[0m                                 Traceback (most recent call last)",
      "Input \u001b[0;32mIn [68]\u001b[0m, in \u001b[0;36m<cell line: 15>\u001b[0;34m()\u001b[0m\n\u001b[1;32m     13\u001b[0m MAX_SEARCH_NUMBER \u001b[38;5;241m=\u001b[39m \u001b[38;5;241m1\u001b[39m\n\u001b[1;32m     14\u001b[0m PAUSE_TIME \u001b[38;5;241m=\u001b[39m \u001b[38;5;241m2.0\u001b[39m\n\u001b[0;32m---> 15\u001b[0m url_list \u001b[38;5;241m=\u001b[39m \u001b[38;5;28mlist\u001b[39m(\u001b[43msearch\u001b[49m\u001b[43m(\u001b[49m\u001b[43mquery_keyword\u001b[49m\u001b[43m,\u001b[49m\u001b[43m \u001b[49m\u001b[43mstop\u001b[49m\u001b[43m \u001b[49m\u001b[38;5;241;43m=\u001b[39;49m\u001b[43m \u001b[49m\u001b[43mMAX_SEARCH_NUMBER\u001b[49m\u001b[43m,\u001b[49m\u001b[43m \u001b[49m\u001b[43mpause\u001b[49m\u001b[43m \u001b[49m\u001b[38;5;241;43m=\u001b[39;49m\u001b[43m \u001b[49m\u001b[43mPAUSE_TIME\u001b[49m\u001b[43m)\u001b[49m)\n",
      "\u001b[0;31mTypeError\u001b[0m: search() got an unexpected keyword argument 'stop'"
     ]
    }
   ],
   "source": [
    "from googlesearch import search\n",
    "\"\"\"\n",
    "query: query string that we want to search for.\n",
    "TLD: TLD stands for the top-level domain which means we want to search our results on google.com or google. in or some other domain.\n",
    "lang: lang stands for language.\n",
    "num: Number of results we want.\n",
    "start: The first result to retrieve.\n",
    "stop: The last result to retrieve. Use None to keep searching forever.\n",
    "pause: Lapse to wait between HTTP requests. Lapse too short may cause Google to block your IP. Keeping significant lapses will make your program slow but it’s a safe and better option.\n",
    "Return: Generator (iterator) that yields found URLs. If the stop parameter is None the iterator will loop forever.\n",
    "\"\"\"\n",
    "query_keyword = \"台積電面試心得\"\n",
    "MAX_SEARCH_NUMBER = 1\n",
    "PAUSE_TIME = 2.0\n",
    "url_list = list(search(query_keyword, stop = MAX_SEARCH_NUMBER, pause = PAUSE_TIME))\n",
    "\n"
   ]
  },
  {
   "cell_type": "code",
   "execution_count": 158,
   "id": "00c46fa6",
   "metadata": {},
   "outputs": [],
   "source": [
    "query_keyword_company = query_keyword[:3]"
   ]
  },
  {
   "cell_type": "code",
   "execution_count": 4,
   "id": "5960f152",
   "metadata": {},
   "outputs": [],
   "source": [
    "import redis\n",
    "\n",
    "cache_connection = redis.StrictRedis(\n",
    "    host = '140.113.73.56',\n",
    "    port = 6379,\n",
    "    db = 1,\n",
    "    password = \"redis123456789\"\n",
    ")\n",
    "\n",
    "block_re_set = cache_connection.smembers(\"BLOCK_RE_SET\")\n",
    "block_url_set = cache_connection.smembers(\"BLOCK_URL_SET\")"
   ]
  },
  {
   "cell_type": "markdown",
   "id": "02007ed2",
   "metadata": {},
   "source": [
    "\n",
    "for url in url_tmp:\n",
    "    new_url = url[url.find(\"https://\")+8:][:url[url.find(\"https://\")+8:].find('/')]    \n",
    "    print(new_url)\n",
    "    #block_url_set.add(new_url.encode('utf-8'))\n",
    "\n"
   ]
  },
  {
   "cell_type": "code",
   "execution_count": 160,
   "id": "bdabcd72",
   "metadata": {},
   "outputs": [
    {
     "name": "stdout",
     "output_type": "stream",
     "text": [
      "https://www.storm.mg/lifestyle/3385627?mode=whole\n",
      "https://interview.tw/c/KYRX\n",
      "https://www.youtube.com/watch?v=ua1bm9mQd58\n",
      "https://money.udn.com/money/story/122329/6279280\n",
      "https://www.jobforum.tw/discussTopic.asp?cat=University&id=336518\n",
      "https://medium.com/@deepwayne.tw04/2019%E5%8F%B0%E7%A9%8D%E9%9B%BB%E9%9D%A2%E8%A9%A6%E5%BF%85%E4%B8%8A%E6%87%B6%E4%BA%BA%E5%8C%85-72871cc203b5\n",
      "https://wenyis.blog/category/%E5%B7%A5%E4%BD%9C%E7%94%9F%E6%B4%BB/%E9%9D%A2%E8%A9%A6%E5%BF%83%E5%BE%97/\n",
      "https://yushuanhsieh.github.io/post/2021-09-04-tsmc-sre-interview/\n",
      "https://forum.gamer.com.tw/C.php?bsn=60561&snA=21261\n",
      "https://www.yes123.com.tw/aboutwork_2020/article.asp?w_id=18441\n",
      "https://mropengate.blogspot.com/2017/09/htc.html\n",
      "http://fofodesu.blogspot.com/2012/08/blog-post_30.html\n",
      "https://blog.sappy.tw/posts/%E6%B1%82%E8%81%B7/%E5%8F%B0%E7%A9%8D%E9%9B%BB/\n",
      "https://beanfun.com/articles/detail/1494949485200019456?country=tw&site=1\n",
      "https://salary.tw/c/KYRX\n",
      "https://www.moneynet.com.tw/article/12310/%E5%8F%B0%E7%A9%8D%E9%9B%BB%E5%89%8D%E8%BC%A9%E6%8F%AD%E5%AF%86%E9%9D%A2%E8%A9%A6%E6%9C%80%E5%B8%B8%E8%A6%8B10%E5%A4%A7%E8%80%83%E9%A1%8C%E8%87%B3%E5%B0%91%E5%95%8F7%E9%A1%8C\n"
     ]
    }
   ],
   "source": [
    "scraper = cloudscraper.create_scraper()  # returns a CloudScraper instance\n",
    "\n",
    "response_list = []\n",
    "\n",
    "for index, url in enumerate(url_list):\n",
    "    new_url = url[url.find(\"https://\")+8:][:url[url.find(\"https://\")+8:].find('/')]\n",
    "    \n",
    "    if 'news' in url or new_url.encode('utf-8') in block_url_set or 'dcard' in url or 'ptt' in url or (('1111' in url or '104' in url) and 'blog' not in url):\n",
    "        continue\n",
    "        \n",
    "    response = scraper.get(url)\n",
    "    if response.status_code != 200 or response.text.count(GOOGLE_AD_TAG) > 2 or response.text.count(query_keyword_company) == 0 :\n",
    "        continue\n",
    "    print(url)\n",
    "    response_list.append(response)\n"
   ]
  },
  {
   "cell_type": "code",
   "execution_count": 286,
   "id": "7d0897c4",
   "metadata": {},
   "outputs": [
    {
     "data": {
      "text/plain": [
       "10759"
      ]
     },
     "execution_count": 286,
     "metadata": {},
     "output_type": "execute_result"
    }
   ],
   "source": [
    "import redis\n",
    "\n",
    "cache_connection = redis.StrictRedis(\n",
    "    host = '140.113.73.56',\n",
    "    port = 6379,\n",
    "    db = 1    \n",
    ")\n",
    "\n",
    "COMPANY_LIST = cache_connection.smembers(\"COMPANY_LIST\")\n",
    "len(COMPANY_LIST)"
   ]
  },
  {
   "cell_type": "code",
   "execution_count": 300,
   "id": "58e8b57b",
   "metadata": {},
   "outputs": [
    {
     "data": {
      "text/plain": [
       "'艾比富熱傳有限公司'"
      ]
     },
     "execution_count": 300,
     "metadata": {},
     "output_type": "execute_result"
    }
   ],
   "source": [
    "b'\\xe8\\x89\\xbe\\xe6\\xaf\\x94\\xe5\\xaf\\x8c\\xe7\\x86\\xb1\\xe5\\x82\\xb3\\xe6\\x9c\\x89\\xe9\\x99\\x90\\xe5\\x85\\xac\\xe5\\x8f\\xb8'.decode('utf-8') \n"
   ]
  },
  {
   "cell_type": "code",
   "execution_count": 306,
   "id": "16260595",
   "metadata": {},
   "outputs": [
    {
     "data": {
      "text/plain": [
       "True"
      ]
     },
     "execution_count": 306,
     "metadata": {},
     "output_type": "execute_result"
    }
   ],
   "source": [
    "\"德商foodpanda台灣總部_富胖達股份有限公司\".encode('utf-8') in COMPANY_LIST"
   ]
  },
  {
   "cell_type": "code",
   "execution_count": 69,
   "id": "43559940",
   "metadata": {},
   "outputs": [],
   "source": [
    "import random"
   ]
  },
  {
   "cell_type": "code",
   "execution_count": 79,
   "id": "6d0c9690-b5c7-45da-bc92-70d921fa8972",
   "metadata": {},
   "outputs": [
    {
     "data": {
      "text/plain": [
       "383366194"
      ]
     },
     "execution_count": 79,
     "metadata": {},
     "output_type": "execute_result"
    }
   ],
   "source": [
    "random.randint(0, 1000000000)"
   ]
  },
  {
   "cell_type": "code",
   "execution_count": 41,
   "id": "b83d23e3-2710-43f9-976e-16fb10efe12c",
   "metadata": {},
   "outputs": [
    {
     "ename": "TypeError",
     "evalue": "'Pool' object is not callable",
     "output_type": "error",
     "traceback": [
      "\u001b[0;31m---------------------------------------------------------------------------\u001b[0m",
      "\u001b[0;31mTypeError\u001b[0m                                 Traceback (most recent call last)",
      "Input \u001b[0;32mIn [101]\u001b[0m, in \u001b[0;36m<cell line: 8>\u001b[0;34m()\u001b[0m\n\u001b[1;32m      8\u001b[0m \u001b[38;5;28;01mwith\u001b[39;00m Pool(\u001b[38;5;241m4\u001b[39m) \u001b[38;5;28;01mas\u001b[39;00m pool:\n\u001b[1;32m      9\u001b[0m     \u001b[38;5;28;01mfor\u001b[39;00m idx \u001b[38;5;129;01min\u001b[39;00m \u001b[38;5;28mrange\u001b[39m(\u001b[38;5;241m1\u001b[39m, \u001b[38;5;241m10\u001b[39m):\n\u001b[0;32m---> 10\u001b[0m         \u001b[43mpool\u001b[49m\u001b[43m(\u001b[49m\n\u001b[1;32m     11\u001b[0m \u001b[43m            \u001b[49m\u001b[43msend_mail\u001b[49m\u001b[43m,\u001b[49m\n\u001b[1;32m     12\u001b[0m \u001b[43m            \u001b[49m\u001b[43m(\u001b[49m\u001b[38;5;124;43mf\u001b[39;49m\u001b[38;5;124;43m'\u001b[39;49m\u001b[38;5;124;43muser\u001b[39;49m\u001b[38;5;132;43;01m{\u001b[39;49;00m\u001b[43midx\u001b[49m\u001b[38;5;132;43;01m:\u001b[39;49;00m\u001b[38;5;124;43m0>2\u001b[39;49m\u001b[38;5;132;43;01m}\u001b[39;49;00m\u001b[38;5;124;43m'\u001b[39;49m\u001b[43m,\u001b[49m\u001b[43m \u001b[49m\u001b[38;5;124;43mf\u001b[39;49m\u001b[38;5;124;43m'\u001b[39;49m\u001b[38;5;124;43mvipcode\u001b[39;49m\u001b[38;5;132;43;01m{\u001b[39;49;00m\u001b[43midx\u001b[49m\u001b[38;5;132;43;01m:\u001b[39;49;00m\u001b[38;5;124;43m0>2\u001b[39;49m\u001b[38;5;132;43;01m}\u001b[39;49;00m\u001b[38;5;124;43m'\u001b[39;49m\u001b[43m)\u001b[49m\u001b[43m,\u001b[49m\u001b[43m \u001b[49m\u001b[43m{\u001b[49m\u001b[38;5;124;43m'\u001b[39;49m\u001b[38;5;124;43mextra_sentence\u001b[39;49m\u001b[38;5;124;43m'\u001b[39;49m\u001b[43m:\u001b[49m\u001b[43m \u001b[49m\u001b[38;5;124;43mf\u001b[39;49m\u001b[38;5;124;43m'\u001b[39;49m\u001b[38;5;132;43;01m{\u001b[39;49;00m\u001b[43midx\u001b[49m\u001b[38;5;132;43;01m:\u001b[39;49;00m\u001b[38;5;124;43m0>4\u001b[39;49m\u001b[38;5;132;43;01m}\u001b[39;49;00m\u001b[38;5;124;43m'\u001b[39;49m\u001b[43m}\u001b[49m\n\u001b[1;32m     13\u001b[0m \u001b[43m        \u001b[49m\u001b[43m)\u001b[49m\n\u001b[1;32m     14\u001b[0m     pool\u001b[38;5;241m.\u001b[39mclose()\n\u001b[1;32m     15\u001b[0m     pool\u001b[38;5;241m.\u001b[39mjoin()\n",
      "\u001b[0;31mTypeError\u001b[0m: 'Pool' object is not callable"
     ]
    }
   ],
   "source": [
    "from multiprocessing import Pool\n",
    "\n",
    "\n",
    "def send_mail(username, coupon_code, extra_sentence):\n",
    "    print(username, coupon_code, extra_sentence or '')\n",
    "\n",
    "\n",
    "with Pool(4) as pool:\n",
    "    for idx in range(1, 10):\n",
    "        pool.apply_async(\n",
    "            send_mail,\n",
    "            (f'user{idx:0>2}', f'vipcode{idx:0>2}'), {'extra_sentence': f'{idx:0>4}'}\n",
    "        )\n",
    "    pool.close()\n",
    "    pool.join()"
   ]
  },
  {
   "cell_type": "code",
   "execution_count": 13,
   "id": "6851754f-a5e7-4f05-85ee-96c6466914a1",
   "metadata": {},
   "outputs": [
    {
     "name": "stdout",
     "output_type": "stream",
     "text": [
      "username\n"
     ]
    }
   ],
   "source": [
    "send_mail(\"username\", \"extra_sentence\")"
   ]
  },
  {
   "cell_type": "code",
   "execution_count": 21,
   "id": "e11b404a-e9c6-4636-a0a2-5b538c923d79",
   "metadata": {},
   "outputs": [],
   "source": [
    "from multiprocessing import Pool\n",
    "\n",
    "\n",
    "def send_mail(username, extra_sentence):\n",
    "    print(username)\n",
    "\n",
    "with Pool(4) as pool:\n",
    "    for idx in range(1, 10):\n",
    "        pool.apply_async(\n",
    "            send_mail,(idx, ), {'extra_sentence': f'{idx:0>4}'}\n",
    "        )\n",
    "    pool.close()\n",
    "    pool.join()\n"
   ]
  },
  {
   "cell_type": "code",
   "execution_count": 40,
   "id": "e8fd2f57-ef9b-4591-9f21-89ba9af83bda",
   "metadata": {},
   "outputs": [
    {
     "ename": "TypeError",
     "evalue": "main_map() missing 1 required positional argument: 'j'",
     "output_type": "error",
     "traceback": [
      "\u001b[0;31m---------------------------------------------------------------------------\u001b[0m",
      "\u001b[0;31mRemoteTraceback\u001b[0m                           Traceback (most recent call last)",
      "\u001b[0;31mRemoteTraceback\u001b[0m: \n\"\"\"\nTraceback (most recent call last):\n  File \"/usr/lib/python3.8/multiprocessing/pool.py\", line 125, in worker\n    result = (True, func(*args, **kwds))\n  File \"/usr/lib/python3.8/multiprocessing/pool.py\", line 48, in mapstar\n    return list(map(*args))\nTypeError: main_map() missing 1 required positional argument: 'j'\n\"\"\"",
      "\nThe above exception was the direct cause of the following exception:\n",
      "\u001b[0;31mTypeError\u001b[0m                                 Traceback (most recent call last)",
      "Input \u001b[0;32mIn [40]\u001b[0m, in \u001b[0;36m<cell line: 11>\u001b[0;34m()\u001b[0m\n\u001b[1;32m     13\u001b[0m inputs \u001b[38;5;241m=\u001b[39m [(\u001b[38;5;241m0\u001b[39m,\u001b[38;5;241m2\u001b[39m)]\n\u001b[1;32m     15\u001b[0m \u001b[38;5;28;01mwith\u001b[39;00m Pool(\u001b[38;5;241m16\u001b[39m) \u001b[38;5;28;01mas\u001b[39;00m pool:\n\u001b[0;32m---> 16\u001b[0m     \u001b[43mpool\u001b[49m\u001b[38;5;241;43m.\u001b[39;49m\u001b[43mmap\u001b[49m\u001b[43m(\u001b[49m\u001b[43mmain_map\u001b[49m\u001b[43m,\u001b[49m\u001b[43m \u001b[49m\u001b[43minputs\u001b[49m\u001b[43m)\u001b[49m\n",
      "File \u001b[0;32m/usr/lib/python3.8/multiprocessing/pool.py:364\u001b[0m, in \u001b[0;36mPool.map\u001b[0;34m(self, func, iterable, chunksize)\u001b[0m\n\u001b[1;32m    359\u001b[0m \u001b[38;5;28;01mdef\u001b[39;00m \u001b[38;5;21mmap\u001b[39m(\u001b[38;5;28mself\u001b[39m, func, iterable, chunksize\u001b[38;5;241m=\u001b[39m\u001b[38;5;28;01mNone\u001b[39;00m):\n\u001b[1;32m    360\u001b[0m     \u001b[38;5;124;03m'''\u001b[39;00m\n\u001b[1;32m    361\u001b[0m \u001b[38;5;124;03m    Apply `func` to each element in `iterable`, collecting the results\u001b[39;00m\n\u001b[1;32m    362\u001b[0m \u001b[38;5;124;03m    in a list that is returned.\u001b[39;00m\n\u001b[1;32m    363\u001b[0m \u001b[38;5;124;03m    '''\u001b[39;00m\n\u001b[0;32m--> 364\u001b[0m     \u001b[38;5;28;01mreturn\u001b[39;00m \u001b[38;5;28;43mself\u001b[39;49m\u001b[38;5;241;43m.\u001b[39;49m\u001b[43m_map_async\u001b[49m\u001b[43m(\u001b[49m\u001b[43mfunc\u001b[49m\u001b[43m,\u001b[49m\u001b[43m \u001b[49m\u001b[43miterable\u001b[49m\u001b[43m,\u001b[49m\u001b[43m \u001b[49m\u001b[43mmapstar\u001b[49m\u001b[43m,\u001b[49m\u001b[43m \u001b[49m\u001b[43mchunksize\u001b[49m\u001b[43m)\u001b[49m\u001b[38;5;241;43m.\u001b[39;49m\u001b[43mget\u001b[49m\u001b[43m(\u001b[49m\u001b[43m)\u001b[49m\n",
      "File \u001b[0;32m/usr/lib/python3.8/multiprocessing/pool.py:771\u001b[0m, in \u001b[0;36mApplyResult.get\u001b[0;34m(self, timeout)\u001b[0m\n\u001b[1;32m    769\u001b[0m     \u001b[38;5;28;01mreturn\u001b[39;00m \u001b[38;5;28mself\u001b[39m\u001b[38;5;241m.\u001b[39m_value\n\u001b[1;32m    770\u001b[0m \u001b[38;5;28;01melse\u001b[39;00m:\n\u001b[0;32m--> 771\u001b[0m     \u001b[38;5;28;01mraise\u001b[39;00m \u001b[38;5;28mself\u001b[39m\u001b[38;5;241m.\u001b[39m_value\n",
      "\u001b[0;31mTypeError\u001b[0m: main_map() missing 1 required positional argument: 'j'"
     ]
    }
   ],
   "source": [
    "from multiprocessing import Process, Pool\n",
    "import os, time\n",
    "\n",
    "\n",
    "def main_map(i,j):\n",
    "    result = i * i\n",
    "    print(result)\n",
    "    \n",
    "\n",
    "\n",
    "if __name__ == '__main__':\n",
    "\n",
    "    inputs = [(0,2)]\n",
    "    \n",
    "    with Pool(16) as pool:\n",
    "        pool.map(main_map, inputs)\n"
   ]
  },
  {
   "cell_type": "code",
   "execution_count": 29,
   "id": "b63c5bd1-7595-47c8-baff-fd2a13b55034",
   "metadata": {},
   "outputs": [
    {
     "data": {
      "text/plain": [
       "[None, None, None, None]"
      ]
     },
     "execution_count": 29,
     "metadata": {},
     "output_type": "execute_result"
    }
   ],
   "source": [
    "pool_outputs"
   ]
  },
  {
   "cell_type": "code",
   "execution_count": 54,
   "id": "e52b04d8-2dd0-47a7-9427-8e74ab5ee7b1",
   "metadata": {},
   "outputs": [
    {
     "data": {
      "text/plain": [
       "100"
      ]
     },
     "execution_count": 54,
     "metadata": {},
     "output_type": "execute_result"
    }
   ],
   "source": [
    "b.y"
   ]
  },
  {
   "cell_type": "code",
   "execution_count": 55,
   "id": "2ae9d75e-3428-48c9-ac8e-9467f5a6e28e",
   "metadata": {},
   "outputs": [
    {
     "name": "stdout",
     "output_type": "stream",
     "text": [
      "0\n"
     ]
    }
   ],
   "source": [
    "b.show()"
   ]
  },
  {
   "cell_type": "code",
   "execution_count": null,
   "id": "2181fec1-0f22-4ccf-969a-3e0e5be535cf",
   "metadata": {},
   "outputs": [],
   "source": [
    "[\"AI Lab\",\"AICS\",\"foodpanda\",\"google\",\"Houzz\",\"Mentor\",\"Microsoft\",\"TSMC\",\"旋轉拍賣\",\"群暉\",\"聯發科\"]"
   ]
  }
 ],
 "metadata": {
  "kernelspec": {
   "display_name": "Python 3 (ipykernel)",
   "language": "python",
   "name": "python3"
  },
  "language_info": {
   "codemirror_mode": {
    "name": "ipython",
    "version": 3
   },
   "file_extension": ".py",
   "mimetype": "text/x-python",
   "name": "python",
   "nbconvert_exporter": "python",
   "pygments_lexer": "ipython3",
   "version": "3.8.10"
  },
  "toc-autonumbering": false,
  "toc-showcode": false,
  "toc-showmarkdowntxt": false,
  "toc-showtags": true
 },
 "nbformat": 4,
 "nbformat_minor": 5
}
